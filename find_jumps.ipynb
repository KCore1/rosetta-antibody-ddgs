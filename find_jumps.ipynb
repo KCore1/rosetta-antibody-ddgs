{
 "cells": [
  {
   "cell_type": "markdown",
   "metadata": {},
   "source": [
    "## Find Jumps\n",
    "Find jumps in fold trees at interface for accurate modelling of unbinding\n",
    "\n",
    "Author: Karson Chrispens"
   ]
  },
  {
   "cell_type": "code",
   "execution_count": 6,
   "metadata": {},
   "outputs": [
    {
     "name": "stdout",
     "output_type": "stream",
     "text": [
      "PyRosetta-4 2022 [Rosetta PyRosetta4.conda.linux.cxx11thread.serialization.CentOS.python39.Release 2022.20+release.1eb2c32908941b039e4f87163ff0cb442419288d 2022-05-21T10:32:36] retrieved from: http://www.pyrosetta.org\n",
      "(C) Copyright Rosetta Commons Member Institutions. Created in JHU by Sergey Lyskov and PyRosetta Team.\n",
      "[ WARNING ] Resetting the global tracer options, which have already been set.\n",
      "[ WARNING ] This will not affect Tracers which are already initialized.\n",
      "core.init: Checking for fconfig files in pwd and ./rosetta/flags\n",
      "core.init: Rosetta version: PyRosetta4.conda.linux.cxx11thread.serialization.CentOS.python39.Release r319 2022.20+release.1eb2c32 1eb2c32908941b039e4f87163ff0cb442419288d http://www.pyrosetta.org 2022-05-21T10:32:36\n",
      "core.init: command: PyRosetta -mute all -database /home/kyroyo/miniconda3/envs/ab_proj/lib/python3.9/site-packages/pyrosetta/database\n",
      "basic.random.init_random_generator: 'RNG device' seed mode, using '/dev/urandom', seed=-1769676097 seed_offset=0 real_seed=-1769676097 thread_index=0\n",
      "basic.random.init_random_generator: RandomGenerator:init: Normal mode, seed=-1769676097 RG_type=mt19937\n"
     ]
    }
   ],
   "source": [
    "import re\n",
    "import pandas as pd\n",
    "import numpy as np\n",
    "from pyrosetta import *\n",
    "init(\"-mute all\")"
   ]
  },
  {
   "cell_type": "code",
   "execution_count": 2,
   "metadata": {},
   "outputs": [],
   "source": [
    "data = pd.read_csv(\"./raw_datasets/use_this_data.csv\")\n",
    "pdbs = data[\"#PDB\"].unique()"
   ]
  },
  {
   "cell_type": "code",
   "execution_count": 14,
   "metadata": {},
   "outputs": [
    {
     "name": "stdout",
     "output_type": "stream",
     "text": [
      "core.import_pose.import_pose: File './PDBs/1DQJ_all.pdb' automatically determined to be of type PDB\n",
      "core.conformation.Conformation: Found disulfide between residues 6 127\n",
      "core.conformation.Conformation: current variant for 6 CYS\n",
      "core.conformation.Conformation: current variant for 127 CYS\n",
      "core.conformation.Conformation: current variant for 6 CYD\n",
      "core.conformation.Conformation: current variant for 127 CYD\n",
      "core.conformation.Conformation: Found disulfide between residues 30 115\n",
      "core.conformation.Conformation: current variant for 30 CYS\n",
      "core.conformation.Conformation: current variant for 115 CYS\n",
      "core.conformation.Conformation: current variant for 30 CYD\n",
      "core.conformation.Conformation: current variant for 115 CYD\n",
      "core.conformation.Conformation: Found disulfide between residues 64 80\n",
      "core.conformation.Conformation: current variant for 64 CYS\n",
      "core.conformation.Conformation: current variant for 80 CYS\n",
      "core.conformation.Conformation: current variant for 64 CYD\n",
      "core.conformation.Conformation: current variant for 80 CYD\n",
      "core.conformation.Conformation: Found disulfide between residues 76 94\n",
      "core.conformation.Conformation: current variant for 76 CYS\n",
      "core.conformation.Conformation: current variant for 94 CYS\n",
      "core.conformation.Conformation: current variant for 76 CYD\n",
      "core.conformation.Conformation: current variant for 94 CYD\n",
      "core.conformation.Conformation: Found disulfide between residues 151 224\n",
      "core.conformation.Conformation: current variant for 151 CYS\n",
      "core.conformation.Conformation: current variant for 224 CYS\n",
      "core.conformation.Conformation: current variant for 151 CYD\n",
      "core.conformation.Conformation: current variant for 224 CYD\n",
      "core.conformation.Conformation: Found disulfide between residues 269 324\n",
      "core.conformation.Conformation: current variant for 269 CYS\n",
      "core.conformation.Conformation: current variant for 324 CYS\n",
      "core.conformation.Conformation: current variant for 269 CYD\n",
      "core.conformation.Conformation: current variant for 324 CYD\n",
      "core.conformation.Conformation: Found disulfide between residues 362 427\n",
      "core.conformation.Conformation: current variant for 362 CYS\n",
      "core.conformation.Conformation: current variant for 427 CYS\n",
      "core.conformation.Conformation: current variant for 362 CYD\n",
      "core.conformation.Conformation: current variant for 427 CYD\n",
      "core.conformation.Conformation: Found disulfide between residues 473 533\n",
      "core.conformation.Conformation: current variant for 473 CYS\n",
      "core.conformation.Conformation: current variant for 533 CYS\n",
      "core.conformation.Conformation: current variant for 473 CYD\n",
      "core.conformation.Conformation: current variant for 533 CYD\n",
      "1DQJ: FOLD_TREE  EDGE 1 129 -1  EDGE 1 130 1  EDGE 130 339 -1  EDGE 1 340 2  EDGE 340 553 -1  Chains: CHHHHHHHHL\n"
     ]
    }
   ],
   "source": [
    "for pdb in pdbs:\n",
    "    pose = pose_from_pdb(f\"./PDBs/{pdb}_all.pdb\")\n",
    "    chains = re.sub(r\"\\s+\", '', re.sub(r\"..+\", '', re.sub(r\".+([A-Z])\\s\\d+.+\", r\"\\1\", str(pose.pdb_info()))))\n",
    "    print(f\"{pdb}: {pose.fold_tree()} Chains: {chains}\")"
   ]
  }
 ],
 "metadata": {
  "kernelspec": {
   "display_name": "Python 3.9.12 ('ab_proj')",
   "language": "python",
   "name": "python3"
  },
  "language_info": {
   "codemirror_mode": {
    "name": "ipython",
    "version": 3
   },
   "file_extension": ".py",
   "mimetype": "text/x-python",
   "name": "python",
   "nbconvert_exporter": "python",
   "pygments_lexer": "ipython3",
   "version": "3.9.12"
  },
  "orig_nbformat": 4,
  "vscode": {
   "interpreter": {
    "hash": "b4b35435ca9d895c79aa628b4c268efc9ba3f268a4bc4f2bbbb6ba2da20883a0"
   }
  }
 },
 "nbformat": 4,
 "nbformat_minor": 2
}

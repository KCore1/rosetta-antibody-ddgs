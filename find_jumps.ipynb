{
 "cells": [
  {
   "cell_type": "markdown",
   "metadata": {},
   "source": [
    "## Find Jumps\n",
    "Find jumps in fold trees at interface for accurate modelling of unbinding\n",
    "\n",
    "Author: Karson Chrispens"
   ]
  },
  {
   "cell_type": "code",
   "execution_count": null,
   "metadata": {},
   "outputs": [],
   "source": [
    "import re\n",
    "import pandas as pd\n",
    "import numpy as np\n",
    "from pyrosetta.rosetta.protocols import *\n",
    "from pyrosetta.rosetta.core.import_pose import *\n",
    "from pyrosetta import *\n",
    "init()"
   ]
  },
  {
   "cell_type": "markdown",
   "metadata": {},
   "source": [
    "Input path to the PDB you want to find the jump for:"
   ]
  },
  {
   "cell_type": "code",
   "execution_count": null,
   "metadata": {},
   "outputs": [],
   "source": [
    "# data = pd.read_csv(\"./raw_datasets/use_this_data.csv\")\n",
    "# pdbs = data[\"#PDB\"].unique()\n",
    "\n",
    "paths = []"
   ]
  },
  {
   "cell_type": "code",
   "execution_count": null,
   "metadata": {},
   "outputs": [],
   "source": [
    "poses = []\n",
    "\n",
    "# for pdb in pdbs:\n",
    "for path in paths:\n",
    "    pose = get_pdb_and_cleanup(path)\n",
    "    poses.append(pose)"
   ]
  },
  {
   "cell_type": "markdown",
   "metadata": {},
   "source": [
    "**NOTE:** If the PDB is not already cleaned, this will clean it. That means that these jumps will NOT be accurate for the original PDB that is not cleaned. \n",
    "\n",
    "Ensure that you clean the PDBs that you input into the prediction script."
   ]
  },
  {
   "cell_type": "markdown",
   "metadata": {},
   "source": [
    "# Finding the Jump\n",
    "To find the jump you want, look at the jump that is between the antibody chains* and the antigen chain(s). Record that jump number to use in the shell script (`predict_ddg.sh`).\n",
    "\n",
    "*usually H and L, but you may have to check the PDB"
   ]
  },
  {
   "cell_type": "code",
   "execution_count": null,
   "metadata": {},
   "outputs": [],
   "source": [
    "for pose in poses:\n",
    "    print(f\"{pose.pdb_info()}:\\n{pose.fold_tree()}\\n\\n\")"
   ]
  }
 ],
 "metadata": {
  "kernelspec": {
   "display_name": "Python 3.9.12 ('ab_proj')",
   "language": "python",
   "name": "python3"
  },
  "language_info": {
   "codemirror_mode": {
    "name": "ipython",
    "version": 3
   },
   "file_extension": ".py",
   "mimetype": "text/x-python",
   "name": "python",
   "nbconvert_exporter": "python",
   "pygments_lexer": "ipython3",
   "version": "3.9.12"
  },
  "vscode": {
   "interpreter": {
    "hash": "b4b35435ca9d895c79aa628b4c268efc9ba3f268a4bc4f2bbbb6ba2da20883a0"
   }
  }
 },
 "nbformat": 4,
 "nbformat_minor": 4
}

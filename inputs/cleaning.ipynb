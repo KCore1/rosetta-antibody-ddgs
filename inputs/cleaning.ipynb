{
 "cells": [
  {
   "cell_type": "code",
   "execution_count": null,
   "metadata": {},
   "outputs": [],
   "source": [
    "import re\n",
    "from pyrosetta import *\n",
    "# import pandas as pd"
   ]
  },
  {
   "cell_type": "code",
   "execution_count": null,
   "metadata": {},
   "outputs": [],
   "source": [
    "# data = pd.read_csv(\"./raw_datasets/use_this_data.csv\")\n",
    "# pdbs = data[\"#PDB\"].unique()"
   ]
  },
  {
   "cell_type": "code",
   "execution_count": null,
   "metadata": {},
   "outputs": [],
   "source": [
    "for pdb in pdbs:\n",
    "    pose = pose_from_pdb(f\"./PDBs/{pdb}.pdb\")\n",
    "    poses.append(pose)"
   ]
  }
 ],
 "metadata": {
  "kernelspec": {
   "display_name": "cenv_flu2",
   "language": "python",
   "name": "cenv_flu2"
  },
  "language_info": {
   "codemirror_mode": {
    "name": "ipython",
    "version": 3
   },
   "file_extension": ".py",
   "mimetype": "text/x-python",
   "name": "python",
   "nbconvert_exporter": "python",
   "pygments_lexer": "ipython3",
   "version": "3.6.8"
  }
 },
 "nbformat": 4,
 "nbformat_minor": 4
}

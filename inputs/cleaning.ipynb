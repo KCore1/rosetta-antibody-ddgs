{
 "cells": [
  {
   "cell_type": "code",
   "execution_count": 2,
   "metadata": {},
   "outputs": [
    {
     "name": "stdout",
     "output_type": "stream",
     "text": [
      "PyRosetta-4 2022 [Rosetta PyRosetta4.Release.python36.linux 2022.14+release.d95c9420af12eca758935f7e2b4d05be19e3a5fe 2022-04-07T08:56:27] retrieved from: http://www.pyrosetta.org\n",
      "(C) Copyright Rosetta Commons Member Institutions. Created in JHU by Sergey Lyskov and PyRosetta Team.\n",
      "core.init: Checking for fconfig files in pwd and ./rosetta/flags\n",
      "core.init: Rosetta version: PyRosetta4.Release.python36.linux r316 2022.14+release.d95c942 d95c9420af12eca758935f7e2b4d05be19e3a5fe http://www.pyrosetta.org 2022-04-07T08:56:27\n",
      "core.init: command: PyRosetta -ex1 -ex2aro -database /projects/kasp8735/software/anaconda3/envs/cenv_flu2/lib/python3.6/site-packages/pyrosetta-2022.14+release.d95c942-py3.6-linux-x86_64.egg/pyrosetta/database\n",
      "basic.random.init_random_generator: 'RNG device' seed mode, using '/dev/urandom', seed=293920073 seed_offset=0 real_seed=293920073\n",
      "basic.random.init_random_generator: RandomGenerator:init: Normal mode, seed=293920073 RG_type=mt19937\n"
     ]
    }
   ],
   "source": [
    "import re\n",
    "from pyrosetta import *\n",
    "from pyrosetta.rosetta.core.import_pose import *\n",
    "import pandas as pd\n",
    "pyrosetta.init()"
   ]
  },
  {
   "cell_type": "code",
   "execution_count": null,
   "metadata": {},
   "outputs": [],
   "source": [
    "data = pd.read_csv(\"./raw_datasets/use_this_data.csv\")\n",
    "pdbs = data[\"#PDB\"].unique()"
   ]
  },
  {
   "cell_type": "code",
   "execution_count": null,
   "metadata": {},
   "outputs": [],
   "source": [
    "poses = []\n",
    "for pdb in pdbs:\n",
    "    pose = get_pdb_and_cleanup(f\"./PDBs/{pdb}_all.pdb\")\n",
    "    pose.dump_pdb(f\"./PDBs/{pdb}_all.clean.pdb)"
   ]
  }
 ],
 "metadata": {
  "kernelspec": {
   "display_name": "cenv_flu2",
   "language": "python",
   "name": "cenv_flu2"
  },
  "language_info": {
   "codemirror_mode": {
    "name": "ipython",
    "version": 3
   },
   "file_extension": ".py",
   "mimetype": "text/x-python",
   "name": "python",
   "nbconvert_exporter": "python",
   "pygments_lexer": "ipython3",
   "version": "3.6.8"
  }
 },
 "nbformat": 4,
 "nbformat_minor": 4
}

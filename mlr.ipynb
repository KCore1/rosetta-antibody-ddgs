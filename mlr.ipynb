{
 "cells": [
  {
   "cell_type": "code",
   "execution_count": null,
   "metadata": {},
   "outputs": [],
   "source": [
    "import numpy as np\n",
    "import pandas as pd\n",
    "from sklearn import linear_model"
   ]
  },
  {
   "cell_type": "code",
   "execution_count": null,
   "metadata": {},
   "outputs": [],
   "source": [
    "sfxn_terms = pd.DataFrame({\n",
    "    \"Scoreterms\": [\"fa_atr\", \"fa_rep\", \"fa_intra_rep\", \"fa_sol\", \"lk_ball_wtd\", \"fa_intra_sol\", \"fa_elec\", \"hbond_lr_bb\", \"hbond_sr_bb\", \"hbond_bb_sc\", \"hbond_sc\", \"dslf_fa13\", \"rama_prepro\", \"p_aa_pp\", \"fa_dun\", \"omega\", \"pro_close\", \"yhh_planarity\", \"ref\"],\n",
    "    \"Weights\": [1.0, 0.55, 0.005, 1.0, 1.0, 1.0, 1.0, 1.0, 1.0, 1.0, 1.0, 1.25, 0.45, 0.4, 0.7, 0.6, 1.25, 0.625, 1.0]\n",
    "})\n"
   ]
  }
 ],
 "metadata": {
  "kernelspec": {
   "display_name": "Python 3.9.12 ('ab_proj')",
   "language": "python",
   "name": "python3"
  },
  "language_info": {
   "name": "python",
   "version": "3.9.12"
  },
  "orig_nbformat": 4,
  "vscode": {
   "interpreter": {
    "hash": "b4b35435ca9d895c79aa628b4c268efc9ba3f268a4bc4f2bbbb6ba2da20883a0"
   }
  }
 },
 "nbformat": 4,
 "nbformat_minor": 2
}

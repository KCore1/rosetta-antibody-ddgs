{
 "cells": [
  {
   "cell_type": "code",
   "execution_count": 1,
   "metadata": {},
   "outputs": [],
   "source": [
    "import numpy as np\n",
    "import pandas as pd\n",
    "import re"
   ]
  },
  {
   "cell_type": "code",
   "execution_count": 2,
   "metadata": {},
   "outputs": [],
   "source": [
    "data = pd.read_csv(\"./use_this_data.csv\")"
   ]
  },
  {
   "cell_type": "code",
   "execution_count": 35,
   "metadata": {},
   "outputs": [
    {
     "name": "stdout",
     "output_type": "stream",
     "text": [
      "0    False\n",
      "1    False\n",
      "2    False\n",
      "3    False\n",
      "4    False\n",
      "dtype: bool\n",
      "0    True\n",
      "1    True\n",
      "2    True\n",
      "3    True\n",
      "4    True\n",
      "dtype: bool\n",
      "0    False\n",
      "1    False\n",
      "2    False\n",
      "3    False\n",
      "4    False\n",
      "Name: LD, dtype: bool\n",
      "0    False\n",
      "1    False\n",
      "2    False\n",
      "3    False\n",
      "4    False\n",
      "Name: LD, dtype: bool\n",
      "   #PDB Mutations  ddG(kcal/mol)   Source  LD  Jump  Interface?  Single_mut_A  \\\n",
      "0  1DQJ    H:D32A            2.0  AB-Bind   1     1        True          True   \n",
      "1  1DQJ    H:W98A            4.9  AB-Bind   1     1        True          True   \n",
      "2  1DQJ    H:Y33A            5.5  AB-Bind   1     1        True          True   \n",
      "3  1DQJ    H:Y50A            6.9  AB-Bind   1     1        True          True   \n",
      "4  1DQJ    H:Y53A            1.2  AB-Bind   1     1        True          True   \n",
      "\n",
      "   Small_to_large  Multiple_mut  Multiple_mut_no_A  \n",
      "0           False         False              False  \n",
      "1           False         False              False  \n",
      "2           False         False              False  \n",
      "3           False         False              False  \n",
      "4           False         False              False  \n"
     ]
    }
   ],
   "source": [
    "vdw_vol = {     # Values from Proteins: Structures and Molecular Properties by Thomas Creighton\n",
    "    \"A\": 67,\n",
    "    \"R\": 148,\n",
    "    \"N\": 96,\n",
    "    \"D\": 91,\n",
    "    \"C\": 86,\n",
    "    \"Q\": 114,\n",
    "    \"E\": 109,\n",
    "    \"G\": 48,\n",
    "    \"H\": 118,\n",
    "    \"I\": 124,\n",
    "    \"L\": 124,\n",
    "    \"K\": 135,\n",
    "    \"M\": 124,\n",
    "    \"F\": 135,\n",
    "    \"P\": 90,\n",
    "    \"S\": 90,\n",
    "    \"T\": 93,\n",
    "    \"W\": 163,\n",
    "    \"Y\": 141,\n",
    "    \"V\": 105\n",
    "}\n",
    "vdw_vol = dict(sorted(vdw_vol.items(), key=lambda x:x[1]))\n",
    "\n",
    "s_to_l = []\n",
    "not_contains_ala = []\n",
    "\n",
    "# NOTE: I am counting any datapoint that has ONE small-to-large mutation or ONE mutation to alanine\n",
    "for _, point in data.iterrows():\n",
    "    muts = re.split(\";\", point[\"Mutations\"])\n",
    "    tracker_ala = False\n",
    "    tracker = False\n",
    "    for mut in muts:\n",
    "        aas = re.split(\":\", re.sub(\n",
    "            r\"(\\w):(\\w)(\\d+)\\w*(\\w)\", r\"\\2:\\4\", mut))\n",
    "        if aas[1] == 'A':\n",
    "            tracker_ala = True\n",
    "        if vdw_vol[aas[0]] < vdw_vol[aas[1]]:\n",
    "            tracker = True\n",
    "    s_to_l.append(tracker)\n",
    "    not_contains_ala.append(not tracker_ala)\n",
    "\n",
    "s_to_l = pd.Series(s_to_l)\n",
    "print(s_to_l.head())\n",
    "\n",
    "single_ala = (data.loc[:, \"LD\"] == 1) & (data.loc[:, \"Mutations\"].str.endswith(\"A\"))\n",
    "print(single_ala.head())\n",
    "multiple_mut = data.loc[:, \"LD\"] > 1\n",
    "print(multiple_mut.head())\n",
    "multiple_mut_no_ala = (multiple_mut) & not_contains_ala\n",
    "print(multiple_mut_no_ala.head())\n",
    "data[\"Single_mut_A\"] = single_ala\n",
    "data[\"Small_to_large\"] = s_to_l\n",
    "data[\"Multiple_mut\"] = multiple_mut\n",
    "data[\"Multiple_mut_no_A\"] = multiple_mut_no_ala\n",
    "\n",
    "print(data.head())"
   ]
  },
  {
   "cell_type": "code",
   "execution_count": null,
   "metadata": {},
   "outputs": [],
   "source": [
    "data.to_csv(\"./use_this_data.csv\", index=False)"
   ]
  }
 ],
 "metadata": {
  "kernelspec": {
   "display_name": "Python 3.9.12 ('ab_proj')",
   "language": "python",
   "name": "python3"
  },
  "language_info": {
   "codemirror_mode": {
    "name": "ipython",
    "version": 3
   },
   "file_extension": ".py",
   "mimetype": "text/x-python",
   "name": "python",
   "nbconvert_exporter": "python",
   "pygments_lexer": "ipython3",
   "version": "3.9.12"
  },
  "orig_nbformat": 4,
  "vscode": {
   "interpreter": {
    "hash": "b4b35435ca9d895c79aa628b4c268efc9ba3f268a4bc4f2bbbb6ba2da20883a0"
   }
  }
 },
 "nbformat": 4,
 "nbformat_minor": 2
}

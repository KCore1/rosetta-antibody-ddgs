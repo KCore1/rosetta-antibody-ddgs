{
 "cells": [
  {
   "cell_type": "code",
   "execution_count": 22,
   "metadata": {},
   "outputs": [
    {
     "name": "stdout",
     "output_type": "stream",
     "text": [
      "       #PDB Mutations  ddG(kcal/mol)                Source  LD\n",
      "2867   4FQY    H:A59N      -0.433136  Phillips et al. 2021   1\n",
      "2870   4FQY    H:F95Y      -0.143747  Phillips et al. 2021   1\n",
      "3037   4FQY    H:N77S       0.653622  Phillips et al. 2021   1\n",
      "3168   4FQY    H:T58A       1.272136  Phillips et al. 2021   1\n",
      "3195   4FQY   H:S106Y       0.224343  Phillips et al. 2021   1\n",
      "3229   4FQY    H:S76T      -0.233936  Phillips et al. 2021   1\n",
      "3428   4FQY    H:S71T       0.208141  Phillips et al. 2021   1\n",
      "3533   4FQY    H:T87R       0.137087  Phillips et al. 2021   1\n",
      "3936   4FQY   H:S106Y       0.476781  Phillips et al. 2021   1\n",
      "4388   4FQY    H:N30S       0.859490  Phillips et al. 2021   1\n",
      "4439   4FQY    H:N84S       0.169210  Phillips et al. 2021   1\n",
      "5333   4FQY    H:N31S       1.394786  Phillips et al. 2021   1\n",
      "6299   4FQY    H:S57T       2.104520  Phillips et al. 2021   1\n",
      "7241   4FQY    H:F75S       2.796839  Phillips et al. 2021   1\n",
      "14161  4FQY    H:I74K       4.674663  Phillips et al. 2021   1\n",
      "21031  4FQY    H:S52I       4.843428  Phillips et al. 2021   1\n"
     ]
    },
    {
     "name": "stderr",
     "output_type": "stream",
     "text": [
      "/tmp/ipykernel_4861/4259371715.py:9: UserWarning: Boolean Series key will be reindexed to match DataFrame index.\n",
      "  print(data[data[\"LD\"] == 1][data[\"#PDB\"] == \"4FQY\"])\n"
     ]
    }
   ],
   "source": [
    "import numpy as np\n",
    "import pandas as pd\n",
    "\n",
    "data = pd.read_csv(\"~/rosetta-antibody-ddgs/raw_datasets/full_data.csv\")\n",
    "del data[data.columns[0]]  # Deleting new index row\n",
    "\n",
    "# Subsetting for phillips data\n",
    "data = data[data[\"Source\"].str.contains(\"Phillips\")]\n",
    "print(data[data[\"LD\"] == 1][data[\"#PDB\"] == \"4FQY\"])\n",
    "\n",
    "mut_1 = data[data[\"LD\"] == 1]\n",
    "mut_2 = data[data[\"LD\"] == 2]\n",
    "mut_3 = data[data[\"LD\"] == 3]\n",
    "mut_4 = data[data[\"LD\"] == 4]\n",
    "\n"
   ]
  }
 ],
 "metadata": {
  "kernelspec": {
   "display_name": "Python 3.9.12 ('ab_proj')",
   "language": "python",
   "name": "python3"
  },
  "language_info": {
   "codemirror_mode": {
    "name": "ipython",
    "version": 3
   },
   "file_extension": ".py",
   "mimetype": "text/x-python",
   "name": "python",
   "nbconvert_exporter": "python",
   "pygments_lexer": "ipython3",
   "version": "3.9.12"
  },
  "orig_nbformat": 4,
  "vscode": {
   "interpreter": {
    "hash": "b4b35435ca9d895c79aa628b4c268efc9ba3f268a4bc4f2bbbb6ba2da20883a0"
   }
  }
 },
 "nbformat": 4,
 "nbformat_minor": 2
}

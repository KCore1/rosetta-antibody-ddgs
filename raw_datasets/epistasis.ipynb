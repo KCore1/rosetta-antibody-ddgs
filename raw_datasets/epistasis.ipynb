{
 "cells": [
  {
   "cell_type": "code",
   "execution_count": 59,
   "metadata": {},
   "outputs": [
    {
     "name": "stdout",
     "output_type": "stream",
     "text": [
      "False\n"
     ]
    }
   ],
   "source": [
    "import numpy as np\n",
    "import pandas as pd\n",
    "\n",
    "data = pd.read_csv(\"~/rosetta-antibody-ddgs/raw_datasets/full_data.csv\")\n",
    "del data[data.columns[0]]  # Deleting new index row\n",
    "\n",
    "# Subsetting for phillips data\n",
    "data = data[data[\"Source\"].str.contains(\"Phillips\")]\n",
    "print(data[\"Mutations\"][data[\"#PDB\"] == \"4FQY\"].is_unique)\n",
    "\n",
    "mut_1 = data[data[\"LD\"] == 1]\n",
    "mut_2 = data[data[\"LD\"] == 2]\n",
    "mut_3 = data[data[\"LD\"] == 3]\n",
    "mut_4 = data[data[\"LD\"] == 4]\n",
    "\n"
   ]
  },
  {
   "cell_type": "markdown",
   "metadata": {},
   "source": [
    "Getting the predicted values for $\\Delta \\Delta G$ for LD == 2."
   ]
  },
  {
   "cell_type": "code",
   "execution_count": 57,
   "metadata": {},
   "outputs": [
    {
     "name": "stdout",
     "output_type": "stream",
     "text": [
      "False\n",
      "                ddG(kcal/mol)\n",
      "Mutations                    \n",
      "H:D74E;H:V104L      -0.142923\n",
      "H:D74E;H:V104L       0.415237\n",
      "False\n",
      "173\n",
      "149\n"
     ]
    }
   ],
   "source": [
    "import re\n",
    "\n",
    "new_data = data[~data[\"Source\"].str.contains(\"Phillips\")]\n",
    "\n",
    "new_data = pd.concat([new_data, mut_1])\n",
    "ddGs_actual = mut_2.loc[:, [\"Mutations\", \"ddG(kcal/mol)\"]]\n",
    "ddGs_actual.set_index(\"Mutations\", inplace = True)\n",
    "ddGs_predicted = pd.DataFrame()\n",
    "mut_1_9114 = mut_1[mut_1[\"#PDB\"] == \"4FQY\"]\n",
    "mut_2_9114 = mut_2[mut_2[\"#PDB\"] == \"4FQY\"]\n",
    "mut_1_6261 = mut_1[mut_1[\"#PDB\"] == \"3BGN\"]\n",
    "mut_2_6261 = mut_2[mut_2[\"#PDB\"] == \"3BGN\"]\n",
    "\n",
    "for mutation in mut_2_9114[\"Mutations\"]:\n",
    "    mut1, mut2 = re.split(\";\", mutation)\n",
    "    ddG = pd.Series(mut_1_9114[\"ddG(kcal/mol)\"][mut_1_9114[\"Mutations\"] ==\n",
    "                     mut1].values + mut_1_9114[\"ddG(kcal/mol)\"][mut_1_9114[\"Mutations\"] == mut2].values)\n",
    "    # print(ddG)\n",
    "    ddGs_predicted = pd.concat([ddGs_predicted, pd.DataFrame({\n",
    "        \"ddG(kcal/mol)\": ddG,\n",
    "        \"Mutations\": mutation\n",
    "    })])\n",
    "\n",
    "ddGs_predicted.set_index(\"Mutations\", inplace = True)\n",
    "\n",
    "# print(ddGs_actual[~ddGs_actual.index.duplicated()])\n",
    "print(ddGs_actual[ddGs_actual.index == \"H:D74E;H:V104L\"])\n",
    "print(ddGs_predicted.index.is_unique)\n",
    "\n",
    "print(len(ddGs_actual))\n",
    "print(len(ddGs_predicted))\n",
    "error = ddGs_actual - ddGs_predicted\n",
    "\n",
    "# print(error.head())"
   ]
  },
  {
   "cell_type": "markdown",
   "metadata": {},
   "source": [
    "Getting the predicted values for $\\Delta \\Delta G$ for LD == 3."
   ]
  },
  {
   "cell_type": "code",
   "execution_count": null,
   "metadata": {},
   "outputs": [],
   "source": []
  },
  {
   "cell_type": "markdown",
   "metadata": {},
   "source": [
    "Getting the predicted values for $\\Delta \\Delta G$ for LD == 4."
   ]
  }
 ],
 "metadata": {
  "kernelspec": {
   "display_name": "Python 3.9.12 ('ab_proj')",
   "language": "python",
   "name": "python3"
  },
  "language_info": {
   "codemirror_mode": {
    "name": "ipython",
    "version": 3
   },
   "file_extension": ".py",
   "mimetype": "text/x-python",
   "name": "python",
   "nbconvert_exporter": "python",
   "pygments_lexer": "ipython3",
   "version": "3.9.12"
  },
  "orig_nbformat": 4,
  "vscode": {
   "interpreter": {
    "hash": "b4b35435ca9d895c79aa628b4c268efc9ba3f268a4bc4f2bbbb6ba2da20883a0"
   }
  }
 },
 "nbformat": 4,
 "nbformat_minor": 2
}

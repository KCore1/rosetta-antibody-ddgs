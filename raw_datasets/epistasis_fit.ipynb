{
 "cells": [
  {
   "cell_type": "code",
   "execution_count": 27,
   "metadata": {},
   "outputs": [
    {
     "name": "stdout",
     "output_type": "stream",
     "text": [
      "   #PDB Mutations  ddG(kcal/mol)                Source  LD\n",
      "0  3GBN    H:D73E      -0.123782  Phillips et al. 2021   1\n",
      "1  3GBN    H:T57A       0.007413  Phillips et al. 2021   1\n",
      "2  3GBN    H:V78A       0.011997  Phillips et al. 2021   1\n",
      "3  3GBN    H:P61Q       0.012366  Phillips et al. 2021   1\n",
      "4  3GBN    H:G76S       0.058492  Phillips et al. 2021   1\n"
     ]
    }
   ],
   "source": [
    "import numpy as np\n",
    "import pandas as pd\n",
    "from sklearn.preprocessing import MultiLabelBinarizer\n",
    "import re\n",
    "import statsmodels.api as sm\n",
    "from patsy import dmatrices\n",
    "\n",
    "data = pd.read_csv(\"~/rosetta-antibody-ddgs/raw_datasets/full_data.csv\")\n",
    "\n",
    "# Subsetting for phillips data\n",
    "new_data = data[~data[\"Source\"].str.contains(\"Phillips\")]\n",
    "data = data[data[\"Source\"].str.contains(\"Phillips\")]\n",
    "\n",
    "mut_1 = data.loc[data[\"LD\"] == 1]\n",
    "mut_2 = data.loc[data[\"LD\"] == 2]\n",
    "mut_3 = data.loc[data[\"LD\"] == 3]\n",
    "mut_4 = data.loc[data[\"LD\"] == 4]\n",
    "mut_5 = data.loc[data[\"LD\"] == 5]\n",
    "mut_2 = mut_2.drop_duplicates(subset=\"ddG(kcal/mol)\", keep=False).copy()\n",
    "mut_3 = mut_3.drop_duplicates(subset=\"ddG(kcal/mol)\", keep=False).copy()\n",
    "mut_4 = mut_4.drop_duplicates(subset=\"ddG(kcal/mol)\", keep=False).copy()\n",
    "mut_5 = mut_5.drop_duplicates(subset=\"ddG(kcal/mol)\", keep=False).copy()\n",
    "\n",
    "dump_data = pd.concat([mut_1, mut_2, mut_3, mut_4, mut_5]\n",
    "                      ).reset_index(drop=True)\n",
    "print(dump_data.head())\n"
   ]
  },
  {
   "cell_type": "code",
   "execution_count": 28,
   "metadata": {},
   "outputs": [
    {
     "name": "stdout",
     "output_type": "stream",
     "text": [
      "    #PDB  ddG(kcal/mol)  LD  S29F  N30S  N31S  S52I  S56T  T57A  A58N  S70T  \\\n",
      "11  4FQY      -0.587729   1     0     0     0     0     0     0     1     0   \n",
      "12  4FQY      -0.159545   1     0     0     0     0     0     0     0     0   \n",
      "13  4FQY       0.805839   1     0     0     0     0     0     0     0     0   \n",
      "14  4FQY       1.163809   1     0     0     0     0     0     1     0     0   \n",
      "15  4FQY       0.451638   1     1     0     0     0     0     0     0     0   \n",
      "\n",
      "    I73K  F74S  S75T  N76S  N82AS  T83R  F91Y  S100BY  \n",
      "11     0     0     0     0      0     0     0       0  \n",
      "12     0     0     0     0      0     0     1       0  \n",
      "13     0     0     0     1      0     0     0       0  \n",
      "14     0     0     0     0      0     0     0       0  \n",
      "15     0     0     0     0      0     0     0       0  \n",
      "   #PDB  ddG(kcal/mol)  LD  P28T  R30S  T57A  K58N  P61Q  D73E  F74S  A75T  \\\n",
      "0  3GBN      -0.123782   1     0     0     0     0     0     1     0     0   \n",
      "1  3GBN       0.007413   1     0     0     1     0     0     0     0     0   \n",
      "2  3GBN       0.011997   1     0     0     0     0     0     0     0     0   \n",
      "3  3GBN       0.012366   1     0     0     0     0     1     0     0     0   \n",
      "4  3GBN       0.058492   1     0     0     0     0     0     0     0     0   \n",
      "\n",
      "   G76S  V78A  V100L  \n",
      "0     0     0      0  \n",
      "1     0     0      0  \n",
      "2     0     1      0  \n",
      "3     0     0      0  \n",
      "4     1     0      0  \n"
     ]
    }
   ],
   "source": [
    "mlb9114 = MultiLabelBinarizer(classes=['S29F', 'N30S', 'N31S', 'S52I', 'S56T', 'T57A', 'A58N',\n",
    "                              'S70T', 'I73K', 'F74S', 'S75T', 'N76S', 'N82AS', 'T83R', 'F91Y', 'S100BY'], sparse_output=True)\n",
    "mlb6261 = MultiLabelBinarizer(classes=['P28T', 'R30S', 'T57A', 'K58N', 'P61Q',\n",
    "                                       'D73E', 'F74S', 'A75T', 'G76S', 'V78A', 'V100L'], sparse_output=True)\n",
    "\n",
    "dump_data9114 = dump_data.loc[dump_data[\"#PDB\"] == \"4FQY\"].copy()\n",
    "dump_data6261 = dump_data.loc[dump_data[\"#PDB\"] == \"3GBN\"].copy()\n",
    "\n",
    "dump_data9114.loc[:, (\"Mutations\")] = dump_data9114.loc[:, (\"Mutations\")].apply(\n",
    "    lambda x: re.split(\";\", re.sub(r\"\\w:(\\w+)\", r\"\\1\", x))).copy()\n",
    "dump_data6261.loc[:, (\"Mutations\")] = dump_data6261.loc[:, (\"Mutations\")].apply(\n",
    "    lambda x: re.split(\";\", re.sub(r\"\\w:(\\w+)\", r\"\\1\", x))).copy()\n",
    "\n",
    "dump_data9114 = dump_data9114.join(pd.DataFrame.sparse.from_spmatrix(\n",
    "    mlb9114.fit_transform(dump_data9114.pop('Mutations')),\n",
    "    index=dump_data9114.index,\n",
    "    columns=mlb9114.classes_))\n",
    "dump_data9114.drop(\"Source\", axis=1, inplace=True)\n",
    "dump_data6261 = dump_data6261.join(pd.DataFrame.sparse.from_spmatrix(\n",
    "    mlb6261.fit_transform(dump_data6261.pop('Mutations')),\n",
    "    index=dump_data6261.index,\n",
    "    columns=mlb6261.classes_))\n",
    "dump_data6261.drop(\"Source\", axis=1, inplace=True)\n",
    "print(dump_data9114.head())\n",
    "print(dump_data6261.head())\n"
   ]
  },
  {
   "cell_type": "markdown",
   "metadata": {},
   "source": [
    "# CR6261"
   ]
  },
  {
   "cell_type": "code",
   "execution_count": 30,
   "metadata": {},
   "outputs": [
    {
     "name": "stdout",
     "output_type": "stream",
     "text": [
      "0      -0.123782\n",
      "1       0.007413\n",
      "2       0.011997\n",
      "3       0.012366\n",
      "4       0.058492\n",
      "          ...   \n",
      "2209    4.274974\n",
      "2210    4.306079\n",
      "2211    4.326925\n",
      "2212    4.327260\n",
      "2213    4.355152\n",
      "Name: ddG(kcal/mol), Length: 1011, dtype: float64\n"
     ]
    },
    {
     "ename": "KeyError",
     "evalue": "\"None of [Index(['ddG(kcal/mol)'], dtype='object')] are in the [index]\"",
     "output_type": "error",
     "traceback": [
      "\u001b[0;31m---------------------------------------------------------------------------\u001b[0m",
      "\u001b[0;31mKeyError\u001b[0m                                  Traceback (most recent call last)",
      "\u001b[1;32m/home/kyroyo/rosetta-antibody-ddgs/raw_datasets/epistasis_fit.ipynb Cell 4'\u001b[0m in \u001b[0;36m<cell line: 3>\u001b[0;34m()\u001b[0m\n\u001b[1;32m      <a href='vscode-notebook-cell://wsl%2Bubuntu/home/kyroyo/rosetta-antibody-ddgs/raw_datasets/epistasis_fit.ipynb#ch0000002vscode-remote?line=0'>1</a>\u001b[0m affinities \u001b[39m=\u001b[39m dump_data6261\u001b[39m.\u001b[39mloc[:, \u001b[39m\"\u001b[39m\u001b[39mddG(kcal/mol)\u001b[39m\u001b[39m\"\u001b[39m]\n\u001b[1;32m      <a href='vscode-notebook-cell://wsl%2Bubuntu/home/kyroyo/rosetta-antibody-ddgs/raw_datasets/epistasis_fit.ipynb#ch0000002vscode-remote?line=1'>2</a>\u001b[0m \u001b[39mprint\u001b[39m(affinities)\n\u001b[0;32m----> <a href='vscode-notebook-cell://wsl%2Bubuntu/home/kyroyo/rosetta-antibody-ddgs/raw_datasets/epistasis_fit.ipynb#ch0000002vscode-remote?line=2'>3</a>\u001b[0m affinity_array \u001b[39m=\u001b[39m affinities[[\u001b[39m\"\u001b[39;49m\u001b[39mddG(kcal/mol)\u001b[39;49m\u001b[39m\"\u001b[39;49m]]\u001b[39m.\u001b[39mvalues\u001b[39m.\u001b[39mflatten()\n\u001b[1;32m      <a href='vscode-notebook-cell://wsl%2Bubuntu/home/kyroyo/rosetta-antibody-ddgs/raw_datasets/epistasis_fit.ipynb#ch0000002vscode-remote?line=3'>4</a>\u001b[0m \u001b[39mprint\u001b[39m(affinity_array\u001b[39m.\u001b[39mshape)\n\u001b[1;32m      <a href='vscode-notebook-cell://wsl%2Bubuntu/home/kyroyo/rosetta-antibody-ddgs/raw_datasets/epistasis_fit.ipynb#ch0000002vscode-remote?line=4'>5</a>\u001b[0m mutations \u001b[39m=\u001b[39m [\u001b[39m'\u001b[39m\u001b[39mP28T\u001b[39m\u001b[39m'\u001b[39m, \u001b[39m'\u001b[39m\u001b[39mR30S\u001b[39m\u001b[39m'\u001b[39m, \u001b[39m'\u001b[39m\u001b[39mT57A\u001b[39m\u001b[39m'\u001b[39m, \u001b[39m'\u001b[39m\u001b[39mK58N\u001b[39m\u001b[39m'\u001b[39m, \u001b[39m'\u001b[39m\u001b[39mP61Q\u001b[39m\u001b[39m'\u001b[39m,\n\u001b[1;32m      <a href='vscode-notebook-cell://wsl%2Bubuntu/home/kyroyo/rosetta-antibody-ddgs/raw_datasets/epistasis_fit.ipynb#ch0000002vscode-remote?line=5'>6</a>\u001b[0m                      \u001b[39m'\u001b[39m\u001b[39mD73E\u001b[39m\u001b[39m'\u001b[39m, \u001b[39m'\u001b[39m\u001b[39mF74S\u001b[39m\u001b[39m'\u001b[39m, \u001b[39m'\u001b[39m\u001b[39mA75T\u001b[39m\u001b[39m'\u001b[39m, \u001b[39m'\u001b[39m\u001b[39mG76S\u001b[39m\u001b[39m'\u001b[39m, \u001b[39m'\u001b[39m\u001b[39mV78A\u001b[39m\u001b[39m'\u001b[39m, \u001b[39m'\u001b[39m\u001b[39mV100L\u001b[39m\u001b[39m'\u001b[39m]\n",
      "File \u001b[0;32m~/miniconda3/envs/ab_proj/lib/python3.9/site-packages/pandas/core/series.py:984\u001b[0m, in \u001b[0;36mSeries.__getitem__\u001b[0;34m(self, key)\u001b[0m\n\u001b[1;32m    981\u001b[0m     key \u001b[39m=\u001b[39m np\u001b[39m.\u001b[39masarray(key, dtype\u001b[39m=\u001b[39m\u001b[39mbool\u001b[39m)\n\u001b[1;32m    982\u001b[0m     \u001b[39mreturn\u001b[39;00m \u001b[39mself\u001b[39m\u001b[39m.\u001b[39m_get_values(key)\n\u001b[0;32m--> 984\u001b[0m \u001b[39mreturn\u001b[39;00m \u001b[39mself\u001b[39;49m\u001b[39m.\u001b[39;49m_get_with(key)\n",
      "File \u001b[0;32m~/miniconda3/envs/ab_proj/lib/python3.9/site-packages/pandas/core/series.py:1024\u001b[0m, in \u001b[0;36mSeries._get_with\u001b[0;34m(self, key)\u001b[0m\n\u001b[1;32m   1021\u001b[0m         \u001b[39mreturn\u001b[39;00m \u001b[39mself\u001b[39m\u001b[39m.\u001b[39miloc[key]\n\u001b[1;32m   1023\u001b[0m \u001b[39m# handle the dup indexing case GH#4246\u001b[39;00m\n\u001b[0;32m-> 1024\u001b[0m \u001b[39mreturn\u001b[39;00m \u001b[39mself\u001b[39;49m\u001b[39m.\u001b[39;49mloc[key]\n",
      "File \u001b[0;32m~/miniconda3/envs/ab_proj/lib/python3.9/site-packages/pandas/core/indexing.py:967\u001b[0m, in \u001b[0;36m_LocationIndexer.__getitem__\u001b[0;34m(self, key)\u001b[0m\n\u001b[1;32m    964\u001b[0m axis \u001b[39m=\u001b[39m \u001b[39mself\u001b[39m\u001b[39m.\u001b[39maxis \u001b[39mor\u001b[39;00m \u001b[39m0\u001b[39m\n\u001b[1;32m    966\u001b[0m maybe_callable \u001b[39m=\u001b[39m com\u001b[39m.\u001b[39mapply_if_callable(key, \u001b[39mself\u001b[39m\u001b[39m.\u001b[39mobj)\n\u001b[0;32m--> 967\u001b[0m \u001b[39mreturn\u001b[39;00m \u001b[39mself\u001b[39;49m\u001b[39m.\u001b[39;49m_getitem_axis(maybe_callable, axis\u001b[39m=\u001b[39;49maxis)\n",
      "File \u001b[0;32m~/miniconda3/envs/ab_proj/lib/python3.9/site-packages/pandas/core/indexing.py:1191\u001b[0m, in \u001b[0;36m_LocIndexer._getitem_axis\u001b[0;34m(self, key, axis)\u001b[0m\n\u001b[1;32m   1188\u001b[0m     \u001b[39mif\u001b[39;00m \u001b[39mhasattr\u001b[39m(key, \u001b[39m\"\u001b[39m\u001b[39mndim\u001b[39m\u001b[39m\"\u001b[39m) \u001b[39mand\u001b[39;00m key\u001b[39m.\u001b[39mndim \u001b[39m>\u001b[39m \u001b[39m1\u001b[39m:\n\u001b[1;32m   1189\u001b[0m         \u001b[39mraise\u001b[39;00m \u001b[39mValueError\u001b[39;00m(\u001b[39m\"\u001b[39m\u001b[39mCannot index with multidimensional key\u001b[39m\u001b[39m\"\u001b[39m)\n\u001b[0;32m-> 1191\u001b[0m     \u001b[39mreturn\u001b[39;00m \u001b[39mself\u001b[39;49m\u001b[39m.\u001b[39;49m_getitem_iterable(key, axis\u001b[39m=\u001b[39;49maxis)\n\u001b[1;32m   1193\u001b[0m \u001b[39m# nested tuple slicing\u001b[39;00m\n\u001b[1;32m   1194\u001b[0m \u001b[39mif\u001b[39;00m is_nested_tuple(key, labels):\n",
      "File \u001b[0;32m~/miniconda3/envs/ab_proj/lib/python3.9/site-packages/pandas/core/indexing.py:1132\u001b[0m, in \u001b[0;36m_LocIndexer._getitem_iterable\u001b[0;34m(self, key, axis)\u001b[0m\n\u001b[1;32m   1129\u001b[0m \u001b[39mself\u001b[39m\u001b[39m.\u001b[39m_validate_key(key, axis)\n\u001b[1;32m   1131\u001b[0m \u001b[39m# A collection of keys\u001b[39;00m\n\u001b[0;32m-> 1132\u001b[0m keyarr, indexer \u001b[39m=\u001b[39m \u001b[39mself\u001b[39;49m\u001b[39m.\u001b[39;49m_get_listlike_indexer(key, axis)\n\u001b[1;32m   1133\u001b[0m \u001b[39mreturn\u001b[39;00m \u001b[39mself\u001b[39m\u001b[39m.\u001b[39mobj\u001b[39m.\u001b[39m_reindex_with_indexers(\n\u001b[1;32m   1134\u001b[0m     {axis: [keyarr, indexer]}, copy\u001b[39m=\u001b[39m\u001b[39mTrue\u001b[39;00m, allow_dups\u001b[39m=\u001b[39m\u001b[39mTrue\u001b[39;00m\n\u001b[1;32m   1135\u001b[0m )\n",
      "File \u001b[0;32m~/miniconda3/envs/ab_proj/lib/python3.9/site-packages/pandas/core/indexing.py:1327\u001b[0m, in \u001b[0;36m_LocIndexer._get_listlike_indexer\u001b[0;34m(self, key, axis)\u001b[0m\n\u001b[1;32m   1324\u001b[0m ax \u001b[39m=\u001b[39m \u001b[39mself\u001b[39m\u001b[39m.\u001b[39mobj\u001b[39m.\u001b[39m_get_axis(axis)\n\u001b[1;32m   1325\u001b[0m axis_name \u001b[39m=\u001b[39m \u001b[39mself\u001b[39m\u001b[39m.\u001b[39mobj\u001b[39m.\u001b[39m_get_axis_name(axis)\n\u001b[0;32m-> 1327\u001b[0m keyarr, indexer \u001b[39m=\u001b[39m ax\u001b[39m.\u001b[39;49m_get_indexer_strict(key, axis_name)\n\u001b[1;32m   1329\u001b[0m \u001b[39mreturn\u001b[39;00m keyarr, indexer\n",
      "File \u001b[0;32m~/miniconda3/envs/ab_proj/lib/python3.9/site-packages/pandas/core/indexes/base.py:5782\u001b[0m, in \u001b[0;36mIndex._get_indexer_strict\u001b[0;34m(self, key, axis_name)\u001b[0m\n\u001b[1;32m   5779\u001b[0m \u001b[39melse\u001b[39;00m:\n\u001b[1;32m   5780\u001b[0m     keyarr, indexer, new_indexer \u001b[39m=\u001b[39m \u001b[39mself\u001b[39m\u001b[39m.\u001b[39m_reindex_non_unique(keyarr)\n\u001b[0;32m-> 5782\u001b[0m \u001b[39mself\u001b[39;49m\u001b[39m.\u001b[39;49m_raise_if_missing(keyarr, indexer, axis_name)\n\u001b[1;32m   5784\u001b[0m keyarr \u001b[39m=\u001b[39m \u001b[39mself\u001b[39m\u001b[39m.\u001b[39mtake(indexer)\n\u001b[1;32m   5785\u001b[0m \u001b[39mif\u001b[39;00m \u001b[39misinstance\u001b[39m(key, Index):\n\u001b[1;32m   5786\u001b[0m     \u001b[39m# GH 42790 - Preserve name from an Index\u001b[39;00m\n",
      "File \u001b[0;32m~/miniconda3/envs/ab_proj/lib/python3.9/site-packages/pandas/core/indexes/base.py:5842\u001b[0m, in \u001b[0;36mIndex._raise_if_missing\u001b[0;34m(self, key, indexer, axis_name)\u001b[0m\n\u001b[1;32m   5840\u001b[0m     \u001b[39mif\u001b[39;00m use_interval_msg:\n\u001b[1;32m   5841\u001b[0m         key \u001b[39m=\u001b[39m \u001b[39mlist\u001b[39m(key)\n\u001b[0;32m-> 5842\u001b[0m     \u001b[39mraise\u001b[39;00m \u001b[39mKeyError\u001b[39;00m(\u001b[39mf\u001b[39m\u001b[39m\"\u001b[39m\u001b[39mNone of [\u001b[39m\u001b[39m{\u001b[39;00mkey\u001b[39m}\u001b[39;00m\u001b[39m] are in the [\u001b[39m\u001b[39m{\u001b[39;00maxis_name\u001b[39m}\u001b[39;00m\u001b[39m]\u001b[39m\u001b[39m\"\u001b[39m)\n\u001b[1;32m   5844\u001b[0m not_found \u001b[39m=\u001b[39m \u001b[39mlist\u001b[39m(ensure_index(key)[missing_mask\u001b[39m.\u001b[39mnonzero()[\u001b[39m0\u001b[39m]]\u001b[39m.\u001b[39munique())\n\u001b[1;32m   5845\u001b[0m \u001b[39mraise\u001b[39;00m \u001b[39mKeyError\u001b[39;00m(\u001b[39mf\u001b[39m\u001b[39m\"\u001b[39m\u001b[39m{\u001b[39;00mnot_found\u001b[39m}\u001b[39;00m\u001b[39m not in index\u001b[39m\u001b[39m\"\u001b[39m)\n",
      "\u001b[0;31mKeyError\u001b[0m: \"None of [Index(['ddG(kcal/mol)'], dtype='object')] are in the [index]\""
     ]
    }
   ],
   "source": [
    "affinities = dump_data6261.loc[:, \"ddG(kcal/mol)\"]\n",
    "print(affinities)\n",
    "affinity_array = affinities[[\"ddG(kcal/mol)\"]].values.flatten()\n",
    "print(affinity_array.shape)\n",
    "mutations = ['P28T', 'R30S', 'T57A', 'K58N', 'P61Q',\n",
    "                     'D73E', 'F74S', 'A75T', 'G76S', 'V78A', 'V100L']\n",
    "genotypes = np.array(\n",
    "    dump_data6261[[x for x in mutations]].copy(), dtype=np.float64)\n",
    "print(genotypes.shape)\n"
   ]
  },
  {
   "cell_type": "code",
   "execution_count": 24,
   "metadata": {},
   "outputs": [
    {
     "name": "stdout",
     "output_type": "stream",
     "text": [
      "           ddG\n",
      "0    -0.123782\n",
      "1     0.007413\n",
      "2     0.011997\n",
      "3     0.012366\n",
      "4     0.058492\n",
      "...        ...\n",
      "2209  4.274974\n",
      "2210  4.306079\n",
      "2211  4.326925\n",
      "2212  4.327260\n",
      "2213  4.355152\n",
      "\n",
      "[1011 rows x 1 columns]\n",
      "      Intercept  P28T  R30S  T57A  K58N  P61Q  D73E  F74S  A75T  G76S  V78A  \\\n",
      "0           1.0   0.0   0.0   0.0   0.0   0.0   1.0   0.0   0.0   0.0   0.0   \n",
      "1           1.0   0.0   0.0   1.0   0.0   0.0   0.0   0.0   0.0   0.0   0.0   \n",
      "2           1.0   0.0   0.0   0.0   0.0   0.0   0.0   0.0   0.0   0.0   1.0   \n",
      "3           1.0   0.0   0.0   0.0   0.0   1.0   0.0   0.0   0.0   0.0   0.0   \n",
      "4           1.0   0.0   0.0   0.0   0.0   0.0   0.0   0.0   0.0   1.0   0.0   \n",
      "...         ...   ...   ...   ...   ...   ...   ...   ...   ...   ...   ...   \n",
      "2209        1.0   1.0   1.0   0.0   1.0   0.0   0.0   1.0   0.0   1.0   0.0   \n",
      "2210        1.0   1.0   1.0   0.0   0.0   0.0   1.0   1.0   0.0   1.0   0.0   \n",
      "2211        1.0   1.0   1.0   0.0   1.0   1.0   0.0   1.0   0.0   0.0   0.0   \n",
      "2212        1.0   1.0   1.0   1.0   0.0   0.0   0.0   1.0   0.0   0.0   0.0   \n",
      "2213        1.0   1.0   1.0   0.0   1.0   0.0   0.0   1.0   0.0   0.0   1.0   \n",
      "\n",
      "      V100L  \n",
      "0       0.0  \n",
      "1       0.0  \n",
      "2       0.0  \n",
      "3       0.0  \n",
      "4       0.0  \n",
      "...     ...  \n",
      "2209    0.0  \n",
      "2210    0.0  \n",
      "2211    0.0  \n",
      "2212    1.0  \n",
      "2213    0.0  \n",
      "\n",
      "[1011 rows x 12 columns]\n"
     ]
    }
   ],
   "source": [
    "dump_data6261.rename({\"ddG(kcal/mol)\": \"ddG\"}, axis=1, inplace=True)\n",
    "y, X = dmatrices(\n",
    "    \"ddG ~ P28T + R30S + T57A + K58N + P61Q + D73E + F74S + A75T + G76S + V78A + V100L\", data=dump_data6261, return_type=\"dataframe\")\n",
    "print(y)\n",
    "print(X)"
   ]
  },
  {
   "cell_type": "markdown",
   "metadata": {},
   "source": [
    "# NOTE:\n",
    "This is not right, just was wanting to test this out. I ended up using the method of Phillips et al. Mainly because it was pretty readily replicable with the data in reverse."
   ]
  },
  {
   "cell_type": "code",
   "execution_count": 25,
   "metadata": {},
   "outputs": [
    {
     "name": "stdout",
     "output_type": "stream",
     "text": [
      "                            OLS Regression Results                            \n",
      "==============================================================================\n",
      "Dep. Variable:                    ddG   R-squared:                       0.566\n",
      "Model:                            OLS   Adj. R-squared:                  0.561\n",
      "Method:                 Least Squares   F-statistic:                     118.4\n",
      "Date:                Thu, 07 Jul 2022   Prob (F-statistic):          1.85e-172\n",
      "Time:                        17:18:26   Log-Likelihood:                -763.72\n",
      "No. Observations:                1011   AIC:                             1551.\n",
      "Df Residuals:                     999   BIC:                             1610.\n",
      "Df Model:                          11                                         \n",
      "Covariance Type:            nonrobust                                         \n",
      "==============================================================================\n",
      "                 coef    std err          t      P>|t|      [0.025      0.975]\n",
      "------------------------------------------------------------------------------\n",
      "Intercept     -0.4363      0.073     -5.949      0.000      -0.580      -0.292\n",
      "P28T           0.8373      0.036     23.552      0.000       0.768       0.907\n",
      "R30S           0.7541      0.036     21.239      0.000       0.684       0.824\n",
      "T57A          -0.0345      0.036     -0.971      0.332      -0.104       0.035\n",
      "K58N           0.1193      0.035      3.363      0.001       0.050       0.189\n",
      "P61Q          -0.0504      0.036     -1.416      0.157      -0.120       0.019\n",
      "D73E          -0.0065      0.035     -0.183      0.855      -0.076       0.063\n",
      "F74S           0.6424      0.035     18.123      0.000       0.573       0.712\n",
      "A75T          -0.0822      0.036     -2.313      0.021      -0.152      -0.012\n",
      "G76S           0.2362      0.035      6.663      0.000       0.167       0.306\n",
      "V78A           0.0983      0.035      2.773      0.006       0.029       0.168\n",
      "V100L          0.0440      0.036      1.238      0.216      -0.026       0.114\n",
      "==============================================================================\n",
      "Omnibus:                      442.808   Durbin-Watson:                   0.792\n",
      "Prob(Omnibus):                  0.000   Jarque-Bera (JB):             2388.936\n",
      "Skew:                           1.973   Prob(JB):                         0.00\n",
      "Kurtosis:                       9.414   Cond. No.                         9.18\n",
      "==============================================================================\n",
      "\n",
      "Notes:\n",
      "[1] Standard Errors assume that the covariance matrix of the errors is correctly specified.\n"
     ]
    }
   ],
   "source": [
    "mod = sm.OLS(y, X)\n",
    "res = mod.fit()\n",
    "print(res.summary())"
   ]
  }
 ],
 "metadata": {
  "kernelspec": {
   "display_name": "Python 3.9.12 ('ab_proj')",
   "language": "python",
   "name": "python3"
  },
  "language_info": {
   "codemirror_mode": {
    "name": "ipython",
    "version": 3
   },
   "file_extension": ".py",
   "mimetype": "text/x-python",
   "name": "python",
   "nbconvert_exporter": "python",
   "pygments_lexer": "ipython3",
   "version": "3.9.12"
  },
  "orig_nbformat": 4,
  "vscode": {
   "interpreter": {
    "hash": "b4b35435ca9d895c79aa628b4c268efc9ba3f268a4bc4f2bbbb6ba2da20883a0"
   }
  }
 },
 "nbformat": 4,
 "nbformat_minor": 2
}

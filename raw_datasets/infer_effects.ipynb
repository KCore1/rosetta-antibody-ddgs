{
 "cells": [
  {
   "cell_type": "markdown",
   "metadata": {},
   "source": [
    "# Epistatic Interactions\n",
    "This does a better job than the other notebooks, and is based on the code from [Phillips et al.](https://elifesciences.org/articles/71393#s4)"
   ]
  },
  {
   "cell_type": "code",
   "execution_count": 17,
   "metadata": {},
   "outputs": [],
   "source": [
    "import numpy as np\n",
    "import matplotlib.pyplot as plt\n",
    "import csv\n",
    "import sys\n",
    "import re\n",
    "from sklearn.preprocessing import PolynomialFeatures\n",
    "from sklearn.preprocessing import MultiLabelBinarizer\n",
    "import statsmodels.api as sm\n",
    "import pandas as pd\n",
    "\n",
    "mutations_9114 = ['S29F', 'N30S', 'N31S', 'S52I', 'S56T', 'T57A', 'A58N',\n",
    "                  'S70T', 'I73K', 'F74S', 'S75T', 'N76S', 'N82AS', 'T83R', 'F91Y', 'S100BY']\n",
    "mutations_6261 = ['P28T', 'R30S', 'T57A', 'K58N', 'P61Q',\n",
    "                  'D73E', 'F74S', 'A75T', 'G76S', 'V78A', 'V100L']\n"
   ]
  },
  {
   "cell_type": "markdown",
   "metadata": {},
   "source": [
    "## Read in data"
   ]
  },
  {
   "cell_type": "code",
   "execution_count": 18,
   "metadata": {},
   "outputs": [
    {
     "name": "stdout",
     "output_type": "stream",
     "text": [
      "   #PDB Mutations  ddG(kcal/mol)                Source  LD\n",
      "0  3GBN    H:D73E      -0.123782  Phillips et al. 2021   1\n",
      "1  3GBN    H:T57A       0.007413  Phillips et al. 2021   1\n",
      "2  3GBN    H:V78A       0.011997  Phillips et al. 2021   1\n",
      "3  3GBN    H:P61Q       0.012366  Phillips et al. 2021   1\n",
      "4  3GBN    H:G76S       0.058492  Phillips et al. 2021   1\n"
     ]
    }
   ],
   "source": [
    "data = pd.read_csv(\"~/rosetta-antibody-ddgs/raw_datasets/full_data.csv\")\n",
    "\n",
    "# Subsetting for phillips data\n",
    "new_data = data[~data[\"Source\"].str.contains(\"Phillips\")]\n",
    "data = data[data[\"Source\"].str.contains(\"Phillips\")]\n",
    "\n",
    "mut_1 = data.loc[data[\"LD\"] == 1]\n",
    "mut_2 = data.loc[data[\"LD\"] == 2]\n",
    "mut_3 = data.loc[data[\"LD\"] == 3]\n",
    "mut_4 = data.loc[data[\"LD\"] == 4]\n",
    "mut_5 = data.loc[data[\"LD\"] == 5]\n",
    "mut_2 = mut_2.drop_duplicates(subset=\"ddG(kcal/mol)\", keep=False).copy()\n",
    "mut_3 = mut_3.drop_duplicates(subset=\"ddG(kcal/mol)\", keep=False).copy()\n",
    "mut_4 = mut_4.drop_duplicates(subset=\"ddG(kcal/mol)\", keep=False).copy()\n",
    "mut_5 = mut_5.drop_duplicates(subset=\"ddG(kcal/mol)\", keep=False).copy()\n",
    "\n",
    "dump_data = pd.concat([mut_1, mut_2, mut_3, mut_4, mut_5]\n",
    "                      ).reset_index(drop=True)\n",
    "print(dump_data.head())\n"
   ]
  },
  {
   "cell_type": "code",
   "execution_count": 19,
   "metadata": {},
   "outputs": [
    {
     "name": "stdout",
     "output_type": "stream",
     "text": [
      "    #PDB  ddG(kcal/mol)  LD  S29F  N30S  N31S  S52I  S56T  T57A  A58N  S70T  \\\n",
      "11  4FQY      -0.587729   1     0     0     0     0     0     0     1     0   \n",
      "12  4FQY      -0.159545   1     0     0     0     0     0     0     0     0   \n",
      "13  4FQY       0.805839   1     0     0     0     0     0     0     0     0   \n",
      "14  4FQY       1.163809   1     0     0     0     0     0     1     0     0   \n",
      "15  4FQY       0.451638   1     1     0     0     0     0     0     0     0   \n",
      "\n",
      "    I73K  F74S  S75T  N76S  N82AS  T83R  F91Y  S100BY  \n",
      "11     0     0     0     0      0     0     0       0  \n",
      "12     0     0     0     0      0     0     1       0  \n",
      "13     0     0     0     1      0     0     0       0  \n",
      "14     0     0     0     0      0     0     0       0  \n",
      "15     0     0     0     0      0     0     0       0  \n",
      "   #PDB  ddG(kcal/mol)  LD  P28T  R30S  T57A  K58N  P61Q  D73E  F74S  A75T  \\\n",
      "0  3GBN      -0.123782   1     0     0     0     0     0     1     0     0   \n",
      "1  3GBN       0.007413   1     0     0     1     0     0     0     0     0   \n",
      "2  3GBN       0.011997   1     0     0     0     0     0     0     0     0   \n",
      "3  3GBN       0.012366   1     0     0     0     0     1     0     0     0   \n",
      "4  3GBN       0.058492   1     0     0     0     0     0     0     0     0   \n",
      "\n",
      "   G76S  V78A  V100L  \n",
      "0     0     0      0  \n",
      "1     0     0      0  \n",
      "2     0     1      0  \n",
      "3     0     0      0  \n",
      "4     1     0      0  \n"
     ]
    }
   ],
   "source": [
    "mlb9114 = MultiLabelBinarizer(classes=mutations_9114, sparse_output=True)\n",
    "mlb6261 = MultiLabelBinarizer(classes=mutations_6261, sparse_output=True)\n",
    "\n",
    "dump_data9114 = dump_data.loc[dump_data[\"#PDB\"] == \"4FQY\"].copy()\n",
    "dump_data6261 = dump_data.loc[dump_data[\"#PDB\"] == \"3GBN\"].copy()\n",
    "\n",
    "dump_data9114.loc[:, (\"Mutations\")] = dump_data9114.loc[:, (\"Mutations\")].apply(\n",
    "    lambda x: re.split(\";\", re.sub(r\"\\w:(\\w+)\", r\"\\1\", x))).copy()\n",
    "dump_data6261.loc[:, (\"Mutations\")] = dump_data6261.loc[:, (\"Mutations\")].apply(\n",
    "    lambda x: re.split(\";\", re.sub(r\"\\w:(\\w+)\", r\"\\1\", x))).copy()\n",
    "\n",
    "dump_data9114 = dump_data9114.join(pd.DataFrame.sparse.from_spmatrix(\n",
    "    mlb9114.fit_transform(dump_data9114.pop('Mutations')),\n",
    "    index=dump_data9114.index,\n",
    "    columns=mlb9114.classes_))\n",
    "dump_data9114.drop(\"Source\", axis=1, inplace=True)\n",
    "dump_data6261 = dump_data6261.join(pd.DataFrame.sparse.from_spmatrix(\n",
    "    mlb6261.fit_transform(dump_data6261.pop('Mutations')),\n",
    "    index=dump_data6261.index,\n",
    "    columns=mlb6261.classes_))\n",
    "dump_data6261.drop(\"Source\", axis=1, inplace=True)\n",
    "print(dump_data9114.head())\n",
    "print(dump_data6261.head())\n"
   ]
  },
  {
   "cell_type": "code",
   "execution_count": 23,
   "metadata": {},
   "outputs": [
    {
     "name": "stdout",
     "output_type": "stream",
     "text": [
      "(1011,)\n",
      "(1011, 11)\n",
      "(2506,)\n",
      "(2506, 16)\n"
     ]
    }
   ],
   "source": [
    "affinities_6261 = dump_data6261[[\"ddG(kcal/mol)\"]].values.flatten()\n",
    "print(affinities_6261.shape)\n",
    "genotypes_6261 = np.array(\n",
    "    dump_data6261[[x for x in mutations_6261]].copy(), dtype=np.float64)\n",
    "print(genotypes_6261.shape)\n",
    "\n",
    "affinities_9114 = dump_data9114[[\"ddG(kcal/mol)\"]].values.flatten()\n",
    "print(affinities_9114.shape)\n",
    "genotypes_9114 = np.array(dump_data9114[[x for x in mutations_9114]].copy(), dtype=np.float64)\n",
    "print(genotypes_9114.shape)"
   ]
  },
  {
   "cell_type": "markdown",
   "metadata": {},
   "source": [
    "## CV to choose optimal order of interaction"
   ]
  },
  {
   "cell_type": "markdown",
   "metadata": {},
   "source": [
    "### H1"
   ]
  },
  {
   "cell_type": "code",
   "execution_count": 26,
   "metadata": {},
   "outputs": [
    {
     "name": "stdout",
     "output_type": "stream",
     "text": [
      "101 910\n",
      "Fold:  0\n",
      "[-0.40547378  0.83638399  0.75100607 -0.03891322  0.10914697 -0.06055584\n",
      " -0.0092875   0.64215407 -0.08378612  0.21335984  0.0926288   0.03920108]\n",
      "Fold:  1\n",
      "[-0.42719399  0.83181515  0.74601886 -0.05607121  0.1165019  -0.04872937\n",
      " -0.00746616  0.64009972 -0.09017642  0.23220347  0.10987916  0.04005678]\n",
      "Fold:  2\n",
      "[-0.43525156  0.84864522  0.74818166 -0.02548082  0.12066663 -0.04879098\n",
      " -0.0085349   0.65172879 -0.07411136  0.22896789  0.09048787  0.04710932]\n",
      "Fold:  3\n",
      "[-0.42070529  0.820864    0.75140946 -0.02774555  0.12640729 -0.05433158\n",
      " -0.01228112  0.63946362 -0.09032306  0.21695345  0.09438272  0.04847423]\n",
      "Fold:  4\n",
      "[-0.4454377   0.84998691  0.76820787 -0.05084519  0.12956692 -0.0371712\n",
      " -0.01498364  0.65351944 -0.07453505  0.2375457   0.10088164  0.04184763]\n",
      "Fold:  5\n",
      "[-0.44705453  0.81925887  0.7557612  -0.02025146  0.13698331 -0.05819001\n",
      "  0.00288369  0.63680767 -0.08094337  0.24374893  0.0984006   0.04305639]\n",
      "Fold:  6\n",
      "[-0.42931184  0.85636818  0.76779195 -0.03161102  0.10374435 -0.04700088\n",
      " -0.01860053  0.64584201 -0.09124454  0.23786558  0.09511662  0.03390892]\n",
      "Fold:  7\n",
      "[-0.45185345  0.82438397  0.75140273 -0.01922891  0.09605043 -0.05291602\n",
      "  0.00537299  0.63113277 -0.08523556  0.26062216  0.1024842   0.06882709]\n",
      "Fold:  8\n",
      "[-0.45182938  0.84107918  0.75859358 -0.05404067  0.126281   -0.03471969\n",
      "  0.00147744  0.6324187  -0.07083769  0.23963746  0.11078176  0.03605706]\n",
      "Fold:  9\n",
      "[-0.45120647  0.84617517  0.74350823 -0.01846524  0.12677001 -0.06236696\n",
      " -0.00243112  0.64984697 -0.08210632  0.25165193  0.08851689  0.04263945]\n",
      "Optimal order, 6261:  1\n"
     ]
    }
   ],
   "source": [
    "num_folds = 10\n",
    "max_order = 4\n",
    "\n",
    "# set up permutation\n",
    "np.random.seed(7722)\n",
    "indices_permuted_6261 = np.random.permutation(np.arange(len(genotypes_6261)))\n",
    "size_test_6261 = int(1.0/float(num_folds)*len(genotypes_6261))\n",
    "size_train_6261 = len(genotypes_6261)-size_test_6261\n",
    "print(size_test_6261, size_train_6261)\n",
    "\n",
    "# lists to store r squared values\n",
    "rsq_train_list_6261 = np.zeros((max_order+1, num_folds))\n",
    "rsq_test_list_6261 = np.zeros((max_order+1, num_folds))\n",
    "\n",
    "\n",
    "# loop over CV folds\n",
    "for f in range(num_folds):\n",
    "\n",
    "    # get train & test sets\n",
    "    start = int(f*size_test_6261)\n",
    "    stop = int((f+1)*size_test_6261)\n",
    "    genos_train_6261 = np.concatenate(\n",
    "        (genotypes_6261[indices_permuted_6261[:start]], genotypes_6261[indices_permuted_6261[stop:]]))\n",
    "    genos_test_6261 = genotypes_6261[indices_permuted_6261[start:stop]]\n",
    "    affinities_train_6261 = np.concatenate(\n",
    "        (affinities_6261[indices_permuted_6261[:start]], affinities_6261[indices_permuted_6261[stop:]]))\n",
    "    affinities_test_6261 = affinities_6261[indices_permuted_6261[start:stop]]\n",
    "\n",
    "    print('Fold: ', f)\n",
    "\n",
    "    # initialize zero-order (intercept-only) model\n",
    "    genos_train_6261_previous = np.full(len(genos_train_6261), 1.0)\n",
    "    genos_test_6261_previous = np.full(len(genos_test_6261), 1.0)\n",
    "\n",
    "    reg_6261_previous = sm.OLS(affinities_train_6261, genos_train_6261_previous).fit()\n",
    "    reg_6261_coefs_previous = reg_6261_previous.params\n",
    "\n",
    "    rsquared_train_6261_previous = reg_6261_previous.rsquared\n",
    "    rsquared_test_6261_previous = 1-np.sum((affinities_test_6261-reg_6261_previous.predict(\n",
    "        genos_test_6261_previous))**2)/np.sum((affinities_test_6261-np.mean(affinities_test_6261))**2)\n",
    "    rsq_train_list_6261[0, f] = rsquared_train_6261_previous\n",
    "    rsq_test_list_6261[0, f] = rsquared_test_6261_previous\n",
    "\n",
    "    # mean_pheno_train = np.mean(affinities_train_6261)\n",
    "    # mean_pheno_test = np.mean(affinities_test_6261)\n",
    "\n",
    "    # fit models of increasing order\n",
    "    for order in range(1, max_order+1):\n",
    "        #print('Order: ',str(order))\n",
    "        poly_6261_current = PolynomialFeatures(order, interaction_only=True)\n",
    "        genos_train_6261_current = poly_6261_current.fit_transform(genos_train_6261)\n",
    "        genos_test_6261_current = poly_6261_current.fit_transform(genos_test_6261)\n",
    "\n",
    "        reg_6261_current = sm.OLS(affinities_train_6261, genos_train_6261_current).fit()\n",
    "        reg_6261_coefs_current = reg_6261_current.params\n",
    "        print(reg_6261_coefs_current) # FIXME\n",
    "        reg_6261_CIs_current = reg_6261_current.conf_int(alpha=0.05, cols=None)\n",
    "        reg_6261_stderr = reg_6261_current.bse\n",
    "        # NOTE: Use mse_resid for BIC if you choose to use that\n",
    "\n",
    "        rsquared_train_6261_current = reg_6261_current.rsquared\n",
    "        rsquared_test_6261_current = 1-np.sum((affinities_test_6261-reg_6261_current.predict(\n",
    "            genos_test_6261_current))**2)/np.sum((affinities_test_6261-np.mean(affinities_test_6261))**2)\n",
    "        rsq_train_list_6261[order, f] = rsquared_train_6261_current\n",
    "        rsq_test_list_6261[order, f] = rsquared_test_6261_current\n",
    "        break # FIXME\n",
    "\n",
    "\n",
    "# average over folds\n",
    "mean_rsq_train_6261 = np.mean(rsq_train_list_6261, axis=1)\n",
    "stdev_rsq_train_6261 = np.std(rsq_train_list_6261, axis=1)\n",
    "mean_rsq_test_6261 = np.mean(rsq_test_list_6261, axis=1)\n",
    "stdev_rsq_test_6261 = np.std(rsq_test_list_6261, axis=1)\n",
    "\n",
    "optimal_6261_order = np.argmax(mean_rsq_test_6261)\n",
    "print('Optimal order, 6261: ', optimal_6261_order)\n"
   ]
  },
  {
   "cell_type": "code",
   "execution_count": 18,
   "metadata": {},
   "outputs": [],
   "source": [
    "# print CV results to file\n",
    "with open('model_coefs/CR6261_CV_rsquared.csv', 'w') as writefile:\n",
    "    rsq_writer = csv.writer(writefile)\n",
    "    rsq_writer.writerow(['Type', 'Order', 'Mean', 'Std'])\n",
    "    for i in range(len(mean_rsq_train_H1)):\n",
    "        rsq_writer.writerow(\n",
    "            ['Train', str(i), mean_rsq_train_H1[i], stdev_rsq_train_H1[i]])\n",
    "    for i in range(len(mean_rsq_test_H1)):\n",
    "        rsq_writer.writerow(\n",
    "            ['Test', str(i), mean_rsq_test_H1[i], stdev_rsq_test_H1[i]])\n",
    "    writefile.close()\n"
   ]
  },
  {
   "cell_type": "markdown",
   "metadata": {},
   "source": [
    "### H9"
   ]
  },
  {
   "cell_type": "code",
   "execution_count": 18,
   "metadata": {},
   "outputs": [
    {
     "name": "stdout",
     "output_type": "stream",
     "text": [
      "184 1658\n",
      "Fold:  0\n",
      "Fold:  1\n",
      "Fold:  2\n",
      "Fold:  3\n",
      "Fold:  4\n",
      "Fold:  5\n",
      "Fold:  6\n",
      "Fold:  7\n",
      "Fold:  8\n",
      "Fold:  9\n",
      "Optimal order, H9:  4\n"
     ]
    }
   ],
   "source": [
    "num_folds = 10\n",
    "max_order = 5\n",
    "\n",
    "# set up permutation\n",
    "np.random.seed(2112)\n",
    "indices_permuted_H9 = np.random.permutation(np.arange(len(genos_H9)))\n",
    "size_test_H9 = int(1.0/float(num_folds)*len(genos_H9))\n",
    "size_train_H9 = len(genos_H9)-size_test_H9\n",
    "print(size_test_H9, size_train_H9)\n",
    "\n",
    "# lists to store r squared values\n",
    "rsq_train_list_H9 = np.zeros((max_order+1, num_folds))\n",
    "rsq_test_list_H9 = np.zeros((max_order+1, num_folds))\n",
    "\n",
    "\n",
    "# loop over CV folds\n",
    "for f in range(num_folds):\n",
    "\n",
    "    # get train & test sets\n",
    "    start = int(f*size_test_H9)\n",
    "    stop = int((f+1)*size_test_H9)\n",
    "    genos_train_H9 = np.concatenate(\n",
    "        (genos_H9[indices_permuted_H9[:start]], genos_H9[indices_permuted_H9[stop:]]))\n",
    "    genos_test_H9 = genos_H9[indices_permuted_H9[start:stop]]\n",
    "    phenos_train_H9 = np.concatenate(\n",
    "        (phenos_H9[indices_permuted_H9[:start]], phenos_H9[indices_permuted_H9[stop:]]))\n",
    "    phenos_test_H9 = phenos_H9[indices_permuted_H9[start:stop]]\n",
    "\n",
    "    print('Fold: ', f)\n",
    "\n",
    "    # initialize zero-order (intercept-only) model\n",
    "    genos_train_H9_previous = np.full(len(genos_train_H9), 1.0)\n",
    "    genos_test_H9_previous = np.full(len(genos_test_H9), 1.0)\n",
    "\n",
    "    reg_H9_previous = sm.OLS(phenos_train_H9, genos_train_H9_previous).fit()\n",
    "    reg_H9_coefs_previous = reg_H9_previous.params\n",
    "\n",
    "    rsquared_train_H9_previous = reg_H9_previous.rsquared\n",
    "    rsquared_test_H9_previous = 1-np.sum((phenos_test_H9-reg_H9_previous.predict(\n",
    "        genos_test_H9_previous))**2)/np.sum((phenos_test_H9-np.mean(phenos_test_H9))**2)\n",
    "    rsq_train_list_H9[0, f] = rsquared_train_H9_previous\n",
    "    rsq_test_list_H9[0, f] = rsquared_test_H9_previous\n",
    "\n",
    "    mean_pheno_train = np.mean(phenos_train_H9)\n",
    "    mean_pheno_test = np.mean(phenos_test_H9)\n",
    "\n",
    "    # fit models of increasing order\n",
    "    for order in range(1, max_order+1):\n",
    "        #print('Order: ',str(order))\n",
    "        poly_H9_current = PolynomialFeatures(order, interaction_only=True)\n",
    "        genos_train_H9_current = poly_H9_current.fit_transform(genos_train_H9)\n",
    "        genos_test_H9_current = poly_H9_current.fit_transform(genos_test_H9)\n",
    "\n",
    "        reg_H9_current = sm.OLS(phenos_train_H9, genos_train_H9_current).fit()\n",
    "        reg_H9_coefs_current = reg_H9_current.params\n",
    "        reg_H9_CIs_current = reg_H9_current.conf_int(alpha=0.05, cols=None)\n",
    "        reg_H9_stderr = reg_H9_current.bse\n",
    "\n",
    "        rsquared_train_H9_current = reg_H9_current.rsquared\n",
    "        rsquared_test_H9_current = 1-np.sum((phenos_test_H9-reg_H9_current.predict(\n",
    "            genos_test_H9_current))**2)/np.sum((phenos_test_H9-np.mean(phenos_test_H9))**2)\n",
    "        rsq_train_list_H9[order, f] = rsquared_train_H9_current\n",
    "        rsq_test_list_H9[order, f] = rsquared_test_H9_current\n",
    "\n",
    "\n",
    "# average over folds\n",
    "mean_rsq_train_H9 = np.mean(rsq_train_list_H9, axis=1)\n",
    "stdev_rsq_train_H9 = np.std(rsq_train_list_H9, axis=1)\n",
    "mean_rsq_test_H9 = np.mean(rsq_test_list_H9, axis=1)\n",
    "stdev_rsq_test_H9 = np.std(rsq_test_list_H9, axis=1)\n",
    "\n",
    "optimal_H9_order = np.argmax(mean_rsq_test_H9)\n",
    "print('Optimal order, H9: ', optimal_H9_order)\n"
   ]
  },
  {
   "cell_type": "code",
   "execution_count": 20,
   "metadata": {},
   "outputs": [],
   "source": [
    "# print CV results to file\n",
    "with open('model_coefs/H9_CV_rsquared_'+ep_type+'.csv','w') as writefile:\n",
    "    rsq_writer = csv.writer(writefile)\n",
    "    rsq_writer.writerow(['Optimal order: '+str(optimal_H9_order)])\n",
    "    rsq_writer.writerow(['Type','Order','Mean','Std'])\n",
    "    for i in range(len(mean_rsq_train_H9)):\n",
    "        rsq_writer.writerow(['Train',str(i),mean_rsq_train_H9[i],stdev_rsq_train_H9[i]])\n",
    "    for i in range(len(mean_rsq_test_H9)):\n",
    "        rsq_writer.writerow(['Test',str(i),mean_rsq_test_H9[i],stdev_rsq_test_H9[i]])\n",
    "    writefile.close()\n",
    "    "
   ]
  },
  {
   "cell_type": "markdown",
   "metadata": {},
   "source": [
    "## Fit final models"
   ]
  },
  {
   "cell_type": "markdown",
   "metadata": {},
   "source": [
    "### H1"
   ]
  },
  {
   "cell_type": "code",
   "execution_count": 26,
   "metadata": {},
   "outputs": [
    {
     "name": "stdout",
     "output_type": "stream",
     "text": [
      "Order:  1\n",
      "10\n",
      "Params:  12\n",
      "Performance:  0.7430261110294989\n",
      "Order:  2\n",
      "30\n",
      "Params:  67\n",
      "Performance:  0.9151429662861195\n",
      "Order:  3\n",
      "41\n",
      "Params:  232\n",
      "Performance:  0.957979520212946\n",
      "Order:  4\n",
      "69\n",
      "Params:  562\n",
      "Performance:  0.9827390892301666\n"
     ]
    }
   ],
   "source": [
    "# fit models of increasing order\n",
    "for order in range(1, optimal_H1_order+1):\n",
    "\n",
    "    genos_H1_permuted = genos_H1[indices_permuted_H1]\n",
    "    phenos_H1_permuted = phenos_H1[indices_permuted_H1]\n",
    "    print('Order: ', str(order))\n",
    "    poly_H1_current = PolynomialFeatures(order, interaction_only=True)\n",
    "    genos_H1_current = poly_H1_current.fit_transform(genos_H1_permuted)\n",
    "\n",
    "    # fit\n",
    "    reg_H1_current = sm.OLS(phenos_H1_permuted, genos_H1_current).fit()\n",
    "    reg_H1_coefs_current = reg_H1_current.params\n",
    "    reg_H1_CIs_current = reg_H1_current.conf_int(\n",
    "        alpha=0.05/float(len(reg_H1_coefs_current)), cols=None)\n",
    "    reg_H1_stderr = reg_H1_current.bse\n",
    "    reg_H1_pvalues = reg_H1_current.pvalues\n",
    "\n",
    "    num_sig = len(np.where(reg_H1_pvalues < 0.05 /\n",
    "                  float(len(reg_H1_coefs_current)))[0])\n",
    "    print(num_sig)\n",
    "\n",
    "    predicted_phenos_permuted_H1 = reg_H1_current.predict(genos_H1_current)\n",
    "    rsquared_H1_current = reg_H1_current.rsquared\n",
    "    print('Params: ', len(reg_H1_coefs_current))\n",
    "    print('Performance: ', rsquared_H1_current)\n",
    "\n",
    "    # write model to file\n",
    "    if order > 0:\n",
    "        coef_names = poly_H1_current.get_feature_names(\n",
    "            input_features=mutations)\n",
    "        with open('model_coefs/H1_'+str(order)+'order_'+ep_type+'.txt', 'w') as writefile:\n",
    "            coef_writer = csv.writer(writefile, delimiter='\\t')\n",
    "            coef_writer.writerow(['Params: ', len(reg_H1_coefs_current)])\n",
    "            coef_writer.writerow(['Performance: ', rsquared_H1_current])\n",
    "            coef_writer.writerow(\n",
    "                ['Term', 'Coefficient', 'Standard Error', 'p-value', '95% CI lower', '95% CI upper'])\n",
    "            coef_writer.writerow(['Intercept', reg_H1_coefs_current[0]])\n",
    "            for i in range(1, len(reg_H1_coefs_current)):\n",
    "                coef_writer.writerow([','.join(coef_names[i].split(' ')), reg_H1_coefs_current[i], reg_H1_stderr[i],\n",
    "                                      reg_H1_pvalues[i], reg_H1_CIs_current[i][0], reg_H1_CIs_current[i][1]])\n",
    "            writefile.close()\n"
   ]
  },
  {
   "cell_type": "markdown",
   "metadata": {},
   "source": [
    "### H9"
   ]
  },
  {
   "cell_type": "code",
   "execution_count": 27,
   "metadata": {},
   "outputs": [
    {
     "name": "stdout",
     "output_type": "stream",
     "text": [
      "Order:  1\n",
      "11\n",
      "Params:  12\n",
      "Performance:  0.7924868580010378\n",
      "Order:  2\n",
      "24\n",
      "Params:  67\n",
      "Performance:  0.8743026327570844\n",
      "Order:  3\n",
      "32\n",
      "Params:  232\n",
      "Performance:  0.9292041206369122\n",
      "Order:  4\n",
      "41\n",
      "Params:  562\n",
      "Performance:  0.9680505884789233\n"
     ]
    }
   ],
   "source": [
    "# fit models of increasing order\n",
    "for order in range(1, optimal_H9_order+1):\n",
    "\n",
    "    genos_H9_permuted = genos_H9[indices_permuted_H9]\n",
    "    phenos_H9_permuted = phenos_H9[indices_permuted_H9]\n",
    "    print('Order: ', str(order))\n",
    "    poly_H9_current = PolynomialFeatures(order, interaction_only=True)\n",
    "    genos_H9_current = poly_H9_current.fit_transform(genos_H9_permuted)\n",
    "\n",
    "    # fit\n",
    "    reg_H9_current = sm.OLS(phenos_H9_permuted, genos_H9_current).fit()\n",
    "    reg_H9_coefs_current = reg_H9_current.params\n",
    "    reg_H9_CIs_current = reg_H9_current.conf_int(\n",
    "        alpha=0.05/float(len(reg_H9_coefs_current)), cols=None)\n",
    "    reg_H9_stderr = reg_H9_current.bse\n",
    "    reg_H9_pvalues = reg_H9_current.pvalues\n",
    "\n",
    "    num_sig = len(np.where(reg_H9_pvalues < 0.05 /\n",
    "                  float(len(reg_H9_coefs_current)))[0])\n",
    "    print(num_sig)\n",
    "\n",
    "    predicted_phenos_permuted_H9 = reg_H9_current.predict(genos_H9_current)\n",
    "    rsquared_H9_current = reg_H9_current.rsquared\n",
    "    print('Params: ', len(reg_H9_coefs_current))\n",
    "    print('Performance: ', rsquared_H9_current)\n",
    "\n",
    "    # write model to file\n",
    "    if order > 0:\n",
    "        coef_names = poly_H9_current.get_feature_names(\n",
    "            input_features=mutations)\n",
    "        with open('model_coefs/H9_'+str(order)+'order_'+ep_type+'.txt', 'w') as writefile:\n",
    "            coef_writer = csv.writer(writefile, delimiter='\\t')\n",
    "            coef_writer.writerow(['Params: ', len(reg_H9_coefs_current)])\n",
    "            coef_writer.writerow(['Performance: ', rsquared_H9_current])\n",
    "            coef_writer.writerow(\n",
    "                ['Term', 'Coefficient', 'Standard Error', 'p-value', '95% CI lower', '95% CI upper'])\n",
    "            coef_writer.writerow(['Intercept', reg_H9_coefs_current[0]])\n",
    "            for i in range(1, len(reg_H9_coefs_current)):\n",
    "                coef_writer.writerow([','.join(coef_names[i].split(' ')), reg_H9_coefs_current[i], reg_H9_stderr[i],\n",
    "                                      reg_H9_pvalues[i], reg_H9_CIs_current[i][0], reg_H9_CIs_current[i][1]])\n",
    "            writefile.close()\n"
   ]
  }
 ],
 "metadata": {
  "kernelspec": {
   "display_name": "Python 3.9.12 ('ab_proj')",
   "language": "python",
   "name": "python3"
  },
  "language_info": {
   "codemirror_mode": {
    "name": "ipython",
    "version": 3
   },
   "file_extension": ".py",
   "mimetype": "text/x-python",
   "name": "python",
   "nbconvert_exporter": "python",
   "pygments_lexer": "ipython3",
   "version": "3.9.12"
  },
  "vscode": {
   "interpreter": {
    "hash": "b4b35435ca9d895c79aa628b4c268efc9ba3f268a4bc4f2bbbb6ba2da20883a0"
   }
  }
 },
 "nbformat": 4,
 "nbformat_minor": 4
}

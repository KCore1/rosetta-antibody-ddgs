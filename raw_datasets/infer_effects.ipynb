{
 "cells": [
  {
   "cell_type": "markdown",
   "metadata": {},
   "source": [
    "# Epistatic Interactions\n",
    "This does a better job than the other notebooks, and is based on the code from [Phillips et al.](https://elifesciences.org/articles/71393#s4)"
   ]
  },
  {
   "cell_type": "code",
   "execution_count": 5,
   "metadata": {},
   "outputs": [],
   "source": [
    "import numpy as np\n",
    "import matplotlib.pyplot as plt\n",
    "import csv\n",
    "import sys\n",
    "import re\n",
    "from sklearn.preprocessing import PolynomialFeatures\n",
    "from sklearn.preprocessing import MultiLabelBinarizer\n",
    "import statsmodels.api as sm\n",
    "import pandas as pd\n",
    "# to plot regression\n",
    "import matplotlib.pyplot as plt\n",
    "import seaborn as sns\n",
    "\n",
    "\n",
    "mutations_9114 = ['S29F', 'N30S', 'N31S', 'S52I', 'S56T', 'T57A', 'A58N',\n",
    "                  'S70T', 'I73K', 'F74S', 'S75T', 'N76S', 'N82AS', 'T83R', 'F91Y', 'S100BY']\n",
    "mutations_6261 = ['P28T', 'R30S', 'T57A', 'K58N', 'P61Q',\n",
    "                  'D73E', 'F74S', 'A75T', 'G76S', 'V78A', 'V100L']\n"
   ]
  },
  {
   "cell_type": "code",
   "execution_count": 19,
   "metadata": {},
   "outputs": [
    {
     "data": {
      "text/plain": [
       "'/home/kyroyo/rosetta-antibody-ddgs/raw_datasets'"
      ]
     },
     "execution_count": 19,
     "metadata": {},
     "output_type": "execute_result"
    }
   ],
   "source": [
    "pwd"
   ]
  },
  {
   "cell_type": "markdown",
   "metadata": {},
   "source": [
    "## Read in data"
   ]
  },
  {
   "cell_type": "code",
   "execution_count": 33,
   "metadata": {},
   "outputs": [
    {
     "name": "stdout",
     "output_type": "stream",
     "text": [
      "   #PDB                                          Mutations  ddG(kcal/mol)  \\\n",
      "0  3GBN  H:R30S;H:T57A;H:K58N;H:P61Q;H:D73E;H:A75T;H:G7...      -0.489763   \n",
      "1  3GBN                        H:T57A;H:K58N;H:P61Q;H:A75T      -0.439831   \n",
      "2  3GBN                 H:P28T;H:P61Q;H:D73E;H:A75T;H:G76S      -0.439223   \n",
      "3  3GBN         H:P28T;H:P61Q;H:D73E;H:A75T;H:G76S;H:V100L      -0.404429   \n",
      "4  3GBN                H:T57A;H:K58N;H:P61Q;H:A75T;H:V100L      -0.364320   \n",
      "\n",
      "                 Source  LD  \n",
      "0  Phillips et al. 2021   8  \n",
      "1  Phillips et al. 2021   4  \n",
      "2  Phillips et al. 2021   5  \n",
      "3  Phillips et al. 2021   6  \n",
      "4  Phillips et al. 2021   5  \n"
     ]
    }
   ],
   "source": [
    "data = pd.read_csv(\"~/rosetta-antibody-ddgs/raw_datasets/full_data.csv\")\n",
    "\n",
    "# Subsetting for phillips data\n",
    "new_data = data[~data[\"Source\"].str.contains(\"Phillips\")]\n",
    "data = data[data[\"Source\"].str.contains(\"Phillips\")]\n",
    "\n",
    "# mut_1 = data.loc[data[\"LD\"] == 1]\n",
    "# mut_2 = data.loc[data[\"LD\"] == 2]\n",
    "# mut_3 = data.loc[data[\"LD\"] == 3]\n",
    "# mut_4 = data.loc[data[\"LD\"] == 4]\n",
    "# mut_5 = data.loc[data[\"LD\"] == 5]\n",
    "# mut_2 = mut_2.drop_duplicates(subset=\"ddG(kcal/mol)\", keep=False).copy()\n",
    "# mut_3 = mut_3.drop_duplicates(subset=\"ddG(kcal/mol)\", keep=False).copy()\n",
    "# mut_4 = mut_4.drop_duplicates(subset=\"ddG(kcal/mol)\", keep=False).copy()\n",
    "# mut_5 = mut_5.drop_duplicates(subset=\"ddG(kcal/mol)\", keep=False).copy()\n",
    "\n",
    "# dump_data = pd.concat([mut_1, mut_2, mut_3, mut_4, mut_5]\n",
    "#                       ).reset_index(drop=True)\n",
    "dump_data = data.drop_duplicates(subset=\"ddG(kcal/mol)\", keep=False).copy().reset_index(drop=True)\n",
    "print(dump_data.head())\n"
   ]
  },
  {
   "cell_type": "code",
   "execution_count": 34,
   "metadata": {},
   "outputs": [
    {
     "name": "stdout",
     "output_type": "stream",
     "text": [
      "      #PDB  ddG(kcal/mol)  LD  S29F  N30S  N31S  S52I  S56T  T57A  A58N  S70T  \\\n",
      "2033  4FQY       1.473501   5     1     0     0     0     0     1     0     1   \n",
      "2034  4FQY       0.864929   5     0     0     0     0     1     0     1     1   \n",
      "2035  4FQY       1.797673   6     0     0     0     0     1     1     1     0   \n",
      "2036  4FQY       1.481539   6     0     0     0     0     0     1     1     0   \n",
      "2037  4FQY       1.284476   5     1     0     0     0     1     0     1     0   \n",
      "\n",
      "      I73K  F74S  S75T  N76S  N82AS  T83R  F91Y  S100BY  \n",
      "2033     0     0     0     0      0     1     1       0  \n",
      "2034     0     0     0     0      1     1     0       0  \n",
      "2035     0     0     0     1      0     1     1       0  \n",
      "2036     0     0     0     1      1     0     1       1  \n",
      "2037     0     0     1     0      0     1     0       0  \n",
      "   #PDB  ddG(kcal/mol)  LD  P28T  R30S  T57A  K58N  P61Q  D73E  F74S  A75T  \\\n",
      "0  3GBN      -0.489763   8     0     1     1     1     1     1     0     1   \n",
      "1  3GBN      -0.439831   4     0     0     1     1     1     0     0     1   \n",
      "2  3GBN      -0.439223   5     1     0     0     0     1     1     0     1   \n",
      "3  3GBN      -0.404429   6     1     0     0     0     1     1     0     1   \n",
      "4  3GBN      -0.364320   5     0     0     1     1     1     0     0     1   \n",
      "\n",
      "   G76S  V78A  V100L  \n",
      "0     1     0      1  \n",
      "1     0     0      0  \n",
      "2     1     0      0  \n",
      "3     1     0      1  \n",
      "4     0     0      1  \n"
     ]
    }
   ],
   "source": [
    "mlb9114 = MultiLabelBinarizer(classes=mutations_9114, sparse_output=True)\n",
    "mlb6261 = MultiLabelBinarizer(classes=mutations_6261, sparse_output=True)\n",
    "\n",
    "dump_data9114 = dump_data.loc[dump_data[\"#PDB\"] == \"4FQY\"].copy()\n",
    "dump_data6261 = dump_data.loc[dump_data[\"#PDB\"] == \"3GBN\"].copy()\n",
    "\n",
    "dump_data9114.loc[:, (\"Mutations\")] = dump_data9114.loc[:, (\"Mutations\")].apply(\n",
    "    lambda x: re.split(\";\", re.sub(r\"\\w:(\\w+)\", r\"\\1\", x))).copy()\n",
    "dump_data6261.loc[:, (\"Mutations\")] = dump_data6261.loc[:, (\"Mutations\")].apply(\n",
    "    lambda x: re.split(\";\", re.sub(r\"\\w:(\\w+)\", r\"\\1\", x))).copy()\n",
    "\n",
    "dump_data9114 = dump_data9114.join(pd.DataFrame.sparse.from_spmatrix(\n",
    "    mlb9114.fit_transform(dump_data9114.pop('Mutations')),\n",
    "    index=dump_data9114.index,\n",
    "    columns=mlb9114.classes_))\n",
    "dump_data9114.drop(\"Source\", axis=1, inplace=True)\n",
    "dump_data6261 = dump_data6261.join(pd.DataFrame.sparse.from_spmatrix(\n",
    "    mlb6261.fit_transform(dump_data6261.pop('Mutations')),\n",
    "    index=dump_data6261.index,\n",
    "    columns=mlb6261.classes_))\n",
    "dump_data6261.drop(\"Source\", axis=1, inplace=True)\n",
    "print(dump_data9114.head())\n",
    "print(dump_data6261.head())\n"
   ]
  },
  {
   "cell_type": "markdown",
   "metadata": {},
   "source": [
    "# Making Arrays for Regression"
   ]
  },
  {
   "cell_type": "code",
   "execution_count": 35,
   "metadata": {},
   "outputs": [
    {
     "name": "stdout",
     "output_type": "stream",
     "text": [
      "(2033,)\n",
      "(2033, 11)\n",
      "(7173,)\n",
      "(7173, 16)\n"
     ]
    }
   ],
   "source": [
    "# All data 6261\n",
    "affinities_6261 = dump_data6261[[\n",
    "    \"ddG(kcal/mol)\"]].values.flatten()\n",
    "print(affinities_6261.shape)\n",
    "genotypes_6261 = np.array(dump_data6261[[\n",
    "                            x for x in mutations_6261]].copy(), dtype=np.float64)\n",
    "print(genotypes_6261.shape)\n",
    "\n",
    "# # Partitioned data 6261\n",
    "# affinities_6261_1 = dump_data6261.loc[dump_data6261[\"LD\"] == 1][[\"ddG(kcal/mol)\"]].values.flatten()\n",
    "# print(affinities_6261_1.shape)\n",
    "# genotypes_6261_1 = np.array(\n",
    "#     dump_data6261.loc[dump_data6261[\"LD\"] == 1][[x for x in mutations_6261]].copy(), dtype=np.float64)\n",
    "# print(genotypes_6261_1.shape)\n",
    "# affinities_6261_2 = dump_data6261.loc[dump_data6261[\"LD\"] <= 2][[\"ddG(kcal/mol)\"]].values.flatten()\n",
    "# print(affinities_6261_2.shape)\n",
    "# genotypes_6261_2 = np.array(\n",
    "#     dump_data6261.loc[dump_data6261[\"LD\"] <= 2][[x for x in mutations_6261]].copy(), dtype=np.float64)\n",
    "# print(genotypes_6261_2.shape)\n",
    "# affinities_6261_3 = dump_data6261.loc[dump_data6261[\"LD\"] <= 3][[\"ddG(kcal/mol)\"]].values.flatten()\n",
    "# print(affinities_6261_3.shape)\n",
    "# genotypes_6261_3 = np.array(\n",
    "#     dump_data6261.loc[dump_data6261[\"LD\"] <= 3][[x for x in mutations_6261]].copy(), dtype=np.float64)\n",
    "# print(genotypes_6261_3.shape)\n",
    "# affinities_6261_4 = dump_data6261.loc[dump_data6261[\"LD\"] <= 4][[\"ddG(kcal/mol)\"]].values.flatten()\n",
    "# print(affinities_6261_4.shape)\n",
    "# genotypes_6261_4 = np.array(\n",
    "#     dump_data6261.loc[dump_data6261[\"LD\"] <= 4][[x for x in mutations_6261]].copy(), dtype=np.float64)\n",
    "# print(genotypes_6261_4.shape)\n",
    "\n",
    "# All data 9114\n",
    "affinities_9114 = dump_data9114[[\n",
    "    \"ddG(kcal/mol)\"]].values.flatten()\n",
    "print(affinities_9114.shape)\n",
    "genotypes_9114 = np.array(dump_data9114[[\n",
    "                            x for x in mutations_9114]].copy(), dtype=np.float64)\n",
    "print(genotypes_9114.shape)\n",
    "\n",
    "# # partitioned data 9114\n",
    "# affinities_9114_1 = dump_data9114.loc[dump_data9114[\"LD\"] == 1][[\n",
    "#     \"ddG(kcal/mol)\"]].values.flatten()\n",
    "# print(affinities_9114_1.shape)\n",
    "# genotypes_9114_1 = np.array(dump_data9114.loc[dump_data9114[\"LD\"] == 1][[\n",
    "#                             x for x in mutations_9114]].copy(), dtype=np.float64)\n",
    "# print(genotypes_9114_1.shape)\n",
    "# affinities_9114_2 = dump_data9114.loc[dump_data9114[\"LD\"] <= 2][[\"ddG(kcal/mol)\"]].values.flatten()\n",
    "# print(affinities_9114_2.shape)\n",
    "# genotypes_9114_2 = np.array(dump_data9114.loc[dump_data9114[\"LD\"] <= 2][[x for x in mutations_9114]].copy(), dtype=np.float64)\n",
    "# print(genotypes_9114_2.shape)\n",
    "# affinities_9114_3 = dump_data9114.loc[dump_data9114[\"LD\"] <= 3][[\n",
    "#     \"ddG(kcal/mol)\"]].values.flatten()\n",
    "# print(affinities_9114_3.shape)\n",
    "# genotypes_9114_3 = np.array(dump_data9114.loc[dump_data9114[\"LD\"] <= 3][[\n",
    "#                             x for x in mutations_9114]].copy(), dtype=np.float64)\n",
    "# print(genotypes_9114_3.shape)\n",
    "# affinities_9114_4 = dump_data9114.loc[dump_data9114[\"LD\"] <= 4][[\n",
    "#     \"ddG(kcal/mol)\"]].values.flatten()\n",
    "# print(affinities_9114_4.shape)\n",
    "# genotypes_9114_4 = np.array(dump_data9114.loc[dump_data9114[\"LD\"] <= 4][[\n",
    "#                             x for x in mutations_9114]].copy(), dtype=np.float64)\n",
    "# print(genotypes_9114_4.shape)"
   ]
  },
  {
   "cell_type": "markdown",
   "metadata": {},
   "source": [
    "## CV to choose optimal order of interaction"
   ]
  },
  {
   "cell_type": "markdown",
   "metadata": {},
   "source": [
    "### 6261"
   ]
  },
  {
   "cell_type": "code",
   "execution_count": 36,
   "metadata": {},
   "outputs": [
    {
     "name": "stdout",
     "output_type": "stream",
     "text": [
      "203 1830\n",
      "Fold:  0\n",
      "Fold:  1\n",
      "Fold:  2\n",
      "Fold:  3\n",
      "Fold:  4\n",
      "Fold:  5\n",
      "Fold:  6\n",
      "Fold:  7\n",
      "Fold:  8\n",
      "Fold:  9\n",
      "Optimal order, 6261:  4\n"
     ]
    }
   ],
   "source": [
    "num_folds = 10\n",
    "max_order = 4\n",
    "\n",
    "# set up permutation\n",
    "np.random.seed(7722)\n",
    "indices_permuted_6261 = np.random.permutation(np.arange(len(genotypes_6261)))\n",
    "size_test_6261 = int(1.0/float(num_folds)*len(genotypes_6261))\n",
    "size_train_6261 = len(genotypes_6261)-size_test_6261\n",
    "print(size_test_6261, size_train_6261)\n",
    "\n",
    "# lists to store r squared values\n",
    "rsq_train_list_6261 = np.zeros((max_order+1, num_folds))\n",
    "rsq_test_list_6261 = np.zeros((max_order+1, num_folds))\n",
    "\n",
    "\n",
    "# loop over CV folds\n",
    "for f in range(num_folds):\n",
    "\n",
    "    # get train & test sets\n",
    "    start = int(f*size_test_6261)\n",
    "    stop = int((f+1)*size_test_6261)\n",
    "    genos_train_6261 = np.concatenate(\n",
    "        (genotypes_6261[indices_permuted_6261[:start]], genotypes_6261[indices_permuted_6261[stop:]]))\n",
    "    genos_test_6261 = genotypes_6261[indices_permuted_6261[start:stop]]\n",
    "    affinities_train_6261 = np.concatenate(\n",
    "        (affinities_6261[indices_permuted_6261[:start]], affinities_6261[indices_permuted_6261[stop:]]))\n",
    "    affinities_test_6261 = affinities_6261[indices_permuted_6261[start:stop]]\n",
    "\n",
    "    print('Fold: ', f)\n",
    "\n",
    "    # initialize zero-order (intercept-only) model\n",
    "    genos_train_6261_previous = np.full(len(genos_train_6261), 1.0)\n",
    "    genos_test_6261_previous = np.full(len(genos_test_6261), 1.0)\n",
    "\n",
    "    reg_6261_previous = sm.OLS(affinities_train_6261, genos_train_6261_previous).fit()\n",
    "    reg_6261_coefs_previous = reg_6261_previous.params\n",
    "\n",
    "    rsquared_train_6261_previous = reg_6261_previous.rsquared\n",
    "    rsquared_test_6261_previous = 1-np.sum((affinities_test_6261-reg_6261_previous.predict(\n",
    "        genos_test_6261_previous))**2)/np.sum((affinities_test_6261-np.mean(affinities_test_6261))**2)\n",
    "    rsq_train_list_6261[0, f] = rsquared_train_6261_previous\n",
    "    rsq_test_list_6261[0, f] = rsquared_test_6261_previous\n",
    "\n",
    "    # mean_pheno_train = np.mean(affinities_train_6261)\n",
    "    # mean_pheno_test = np.mean(affinities_test_6261)\n",
    "\n",
    "    # fit models of increasing order\n",
    "    for order in range(1, max_order+1):\n",
    "        #print('Order: ',str(order))\n",
    "        poly_6261_current = PolynomialFeatures(order, interaction_only=True)\n",
    "        genos_train_6261_current = poly_6261_current.fit_transform(genos_train_6261)\n",
    "        genos_test_6261_current = poly_6261_current.fit_transform(genos_test_6261)\n",
    "\n",
    "        reg_6261_current = sm.OLS(affinities_train_6261, genos_train_6261_current).fit()\n",
    "        reg_6261_coefs_current = reg_6261_current.params\n",
    "        # print(reg_6261_coefs_current) # FIXME\n",
    "        reg_6261_CIs_current = reg_6261_current.conf_int(alpha=0.05, cols=None)\n",
    "        reg_6261_stderr = reg_6261_current.bse\n",
    "        # NOTE: Use mse_resid for BIC if you choose to use that\n",
    "\n",
    "        rsquared_train_6261_current = reg_6261_current.rsquared\n",
    "        rsquared_test_6261_current = 1-np.sum((affinities_test_6261-reg_6261_current.predict(\n",
    "            genos_test_6261_current))**2)/np.sum((affinities_test_6261-np.mean(affinities_test_6261))**2)\n",
    "        rsq_train_list_6261[order, f] = rsquared_train_6261_current\n",
    "        rsq_test_list_6261[order, f] = rsquared_test_6261_current\n",
    "\n",
    "\n",
    "# average over folds\n",
    "mean_rsq_train_6261 = np.mean(rsq_train_list_6261, axis=1)\n",
    "stdev_rsq_train_6261 = np.std(rsq_train_list_6261, axis=1)\n",
    "mean_rsq_test_6261 = np.mean(rsq_test_list_6261, axis=1)\n",
    "stdev_rsq_test_6261 = np.std(rsq_test_list_6261, axis=1)\n",
    "\n",
    "optimal_6261_order = np.argmax(mean_rsq_test_6261)\n",
    "print('Optimal order, 6261: ', optimal_6261_order)\n"
   ]
  },
  {
   "cell_type": "code",
   "execution_count": 37,
   "metadata": {},
   "outputs": [],
   "source": [
    "# print CV results to file\n",
    "with open('./CR6261_CV_rsquared.csv', 'w') as writefile:\n",
    "    rsq_writer = csv.writer(writefile)\n",
    "    rsq_writer.writerow(['Type', 'Order', 'Mean', 'Std'])\n",
    "    for i in range(len(mean_rsq_train_6261)):\n",
    "        rsq_writer.writerow(\n",
    "            ['Train', str(i), mean_rsq_train_6261[i], stdev_rsq_train_6261[i]])\n",
    "    for i in range(len(mean_rsq_test_6261)):\n",
    "        rsq_writer.writerow(\n",
    "            ['Test', str(i), mean_rsq_test_6261[i], stdev_rsq_test_6261[i]])\n",
    "    writefile.close()"
   ]
  },
  {
   "cell_type": "markdown",
   "metadata": {},
   "source": [
    "### 9114"
   ]
  },
  {
   "cell_type": "code",
   "execution_count": 42,
   "metadata": {},
   "outputs": [
    {
     "name": "stdout",
     "output_type": "stream",
     "text": [
      "717 6456\n",
      "Fold:  0\n",
      "Fold:  1\n",
      "Fold:  2\n",
      "Fold:  3\n",
      "Fold:  4\n",
      "Fold:  5\n",
      "Fold:  6\n",
      "Fold:  7\n",
      "Fold:  8\n",
      "Fold:  9\n",
      "Optimal order, 9114:  3\n"
     ]
    }
   ],
   "source": [
    "num_folds = 10\n",
    "max_order = 4\n",
    "\n",
    "# set up permutation\n",
    "np.random.seed(7722)\n",
    "indices_permuted_9114 = np.random.permutation(np.arange(len(genotypes_9114)))\n",
    "size_test_9114 = int(1.0/float(num_folds)*len(genotypes_9114))\n",
    "size_train_9114 = len(genotypes_9114)-size_test_9114\n",
    "print(size_test_9114, size_train_9114)\n",
    "\n",
    "# lists to store r squared values\n",
    "rsq_train_list_9114 = np.zeros((max_order+1, num_folds))\n",
    "rsq_test_list_9114 = np.zeros((max_order+1, num_folds))\n",
    "\n",
    "\n",
    "# loop over CV folds\n",
    "for f in range(num_folds):\n",
    "\n",
    "    # get train & test sets\n",
    "    start = int(f*size_test_9114)\n",
    "    stop = int((f+1)*size_test_9114)\n",
    "    genos_train_9114 = np.concatenate(\n",
    "        (genotypes_9114[indices_permuted_9114[:start]], genotypes_9114[indices_permuted_9114[stop:]]))\n",
    "    genos_test_9114 = genotypes_9114[indices_permuted_9114[start:stop]]\n",
    "    phenos_train_9114 = np.concatenate(\n",
    "        (affinities_9114[indices_permuted_9114[:start]], affinities_9114[indices_permuted_9114[stop:]]))\n",
    "    phenos_test_9114 = affinities_9114[indices_permuted_9114[start:stop]]\n",
    "\n",
    "    print('Fold: ', f)\n",
    "\n",
    "    # initialize zero-order (intercept-only) model\n",
    "    genos_train_9114_previous = np.full(len(genos_train_9114), 1.0)\n",
    "    genos_test_9114_previous = np.full(len(genos_test_9114), 1.0)\n",
    "\n",
    "    reg_9114_previous = sm.OLS(phenos_train_9114, genos_train_9114_previous).fit()\n",
    "    reg_9114_coefs_previous = reg_9114_previous.params\n",
    "\n",
    "    rsquared_train_9114_previous = reg_9114_previous.rsquared\n",
    "    rsquared_test_9114_previous = 1-np.sum((phenos_test_9114-reg_9114_previous.predict(\n",
    "        genos_test_9114_previous))**2)/np.sum((phenos_test_9114-np.mean(phenos_test_9114))**2)\n",
    "    rsq_train_list_9114[0, f] = rsquared_train_9114_previous\n",
    "    rsq_test_list_9114[0, f] = rsquared_test_9114_previous\n",
    "\n",
    "    mean_pheno_train = np.mean(phenos_train_9114)\n",
    "    mean_pheno_test = np.mean(phenos_test_9114)\n",
    "\n",
    "    # fit models of increasing order\n",
    "    for order in range(1, max_order+1):\n",
    "        #print('Order: ',str(order))\n",
    "        poly_9114_current = PolynomialFeatures(order, interaction_only=True)\n",
    "        genos_train_9114_current = poly_9114_current.fit_transform(genos_train_9114)\n",
    "        genos_test_9114_current = poly_9114_current.fit_transform(genos_test_9114)\n",
    "\n",
    "        reg_9114_current = sm.OLS(phenos_train_9114, genos_train_9114_current).fit()\n",
    "        reg_9114_coefs_current = reg_9114_current.params\n",
    "        reg_9114_CIs_current = reg_9114_current.conf_int(alpha=0.05, cols=None)\n",
    "        reg_9114_stderr = reg_9114_current.bse\n",
    "\n",
    "        rsquared_train_9114_current = reg_9114_current.rsquared\n",
    "        rsquared_test_9114_current = 1-np.sum((phenos_test_9114-reg_9114_current.predict(\n",
    "            genos_test_9114_current))**2)/np.sum((phenos_test_9114-np.mean(phenos_test_9114))**2)\n",
    "        rsq_train_list_9114[order, f] = rsquared_train_9114_current\n",
    "        rsq_test_list_9114[order, f] = rsquared_test_9114_current\n",
    "\n",
    "\n",
    "# average over folds\n",
    "mean_rsq_train_9114 = np.mean(rsq_train_list_9114, axis=1)\n",
    "stdev_rsq_train_9114 = np.std(rsq_train_list_9114, axis=1)\n",
    "mean_rsq_test_9114 = np.mean(rsq_test_list_9114, axis=1)\n",
    "stdev_rsq_test_9114 = np.std(rsq_test_list_9114, axis=1)\n",
    "\n",
    "optimal_9114_order = np.argmax(mean_rsq_test_9114)\n",
    "print('Optimal order, 9114: ', optimal_9114_order)\n"
   ]
  },
  {
   "cell_type": "code",
   "execution_count": 43,
   "metadata": {},
   "outputs": [],
   "source": [
    "# print CV results to file\n",
    "with open('./9114_CV_rsquared.csv','w') as writefile:\n",
    "    rsq_writer = csv.writer(writefile)\n",
    "    rsq_writer.writerow(['Optimal order: '+str(optimal_9114_order)])\n",
    "    rsq_writer.writerow(['Type','Order','Mean','Std'])\n",
    "    for i in range(len(mean_rsq_train_9114)):\n",
    "        rsq_writer.writerow(['Train',str(i),mean_rsq_train_9114[i],stdev_rsq_train_9114[i]])\n",
    "    for i in range(len(mean_rsq_test_9114)):\n",
    "        rsq_writer.writerow(['Test',str(i),mean_rsq_test_9114[i],stdev_rsq_test_9114[i]])\n",
    "    writefile.close()\n",
    "    "
   ]
  },
  {
   "cell_type": "markdown",
   "metadata": {},
   "source": [
    "## Fit final models"
   ]
  },
  {
   "cell_type": "markdown",
   "metadata": {},
   "source": [
    "### 6261"
   ]
  },
  {
   "cell_type": "code",
   "execution_count": 48,
   "metadata": {},
   "outputs": [
    {
     "name": "stdout",
     "output_type": "stream",
     "text": [
      "Order:  1\n",
      "9\n",
      "Params:  12\n",
      "Performance:  0.7189706389265444\n",
      "\n",
      "\n",
      "ORDER: 1\n",
      "\n",
      "\n",
      "                            OLS Regression Results                            \n",
      "==============================================================================\n",
      "Dep. Variable:              Predicted   R-squared:                       0.719\n",
      "Model:                            OLS   Adj. R-squared:                  0.719\n",
      "Method:                 Least Squares   F-statistic:                     5196.\n",
      "Date:                Tue, 19 Jul 2022   Prob (F-statistic):               0.00\n",
      "Time:                        17:08:29   Log-Likelihood:                -1760.6\n",
      "No. Observations:                2033   AIC:                             3525.\n",
      "Df Residuals:                    2031   BIC:                             3536.\n",
      "Df Model:                           1                                         \n",
      "Covariance Type:            nonrobust                                         \n",
      "==============================================================================\n",
      "                 coef    std err          t      P>|t|      [0.025      0.975]\n",
      "------------------------------------------------------------------------------\n",
      "Intercept      0.3163      0.017     18.607      0.000       0.283       0.350\n",
      "Actual         0.7190      0.010     72.083      0.000       0.699       0.739\n",
      "==============================================================================\n",
      "Omnibus:                       82.172   Durbin-Watson:                   2.000\n",
      "Prob(Omnibus):                  0.000   Jarque-Bera (JB):               91.561\n",
      "Skew:                          -0.499   Prob(JB):                     1.31e-20\n",
      "Kurtosis:                       3.290   Cond. No.                         2.68\n",
      "==============================================================================\n",
      "\n",
      "Notes:\n",
      "[1] Standard Errors assume that the covariance matrix of the errors is correctly specified.\n"
     ]
    },
    {
     "data": {
      "image/png": "[encoded data removed]",
      "text/plain": [
       "<Figure size 432x288 with 1 Axes>"
      ]
     },
     "metadata": {
      "needs_background": "light"
     },
     "output_type": "display_data"
    },
    {
     "name": "stdout",
     "output_type": "stream",
     "text": [
      "Order:  2\n",
      "21\n",
      "Params:  67\n",
      "Performance:  0.8998779856298994\n",
      "\n",
      "\n",
      "ORDER: 2\n",
      "\n",
      "\n",
      "                            OLS Regression Results                            \n",
      "==============================================================================\n",
      "Dep. Variable:              Predicted   R-squared:                       0.900\n",
      "Model:                            OLS   Adj. R-squared:                  0.900\n",
      "Method:                 Least Squares   F-statistic:                 1.825e+04\n",
      "Date:                Tue, 19 Jul 2022   Prob (F-statistic):               0.00\n",
      "Time:                        17:08:30   Log-Likelihood:                -939.66\n",
      "No. Observations:                2033   AIC:                             1883.\n",
      "Df Residuals:                    2031   BIC:                             1895.\n",
      "Df Model:                           1                                         \n",
      "Covariance Type:            nonrobust                                         \n",
      "==============================================================================\n",
      "                 coef    std err          t      P>|t|      [0.025      0.975]\n",
      "------------------------------------------------------------------------------\n",
      "Intercept      0.1127      0.011      9.927      0.000       0.090       0.135\n",
      "Actual         0.8999      0.007    135.108      0.000       0.887       0.913\n",
      "==============================================================================\n",
      "Omnibus:                      206.432   Durbin-Watson:                   2.012\n",
      "Prob(Omnibus):                  0.000   Jarque-Bera (JB):             1245.946\n",
      "Skew:                          -0.260   Prob(JB):                    2.79e-271\n",
      "Kurtosis:                       6.800   Cond. No.                         2.68\n",
      "==============================================================================\n",
      "\n",
      "Notes:\n",
      "[1] Standard Errors assume that the covariance matrix of the errors is correctly specified.\n"
     ]
    },
    {
     "data": {
      "image/png": "[encoded data removed]",
      "text/plain": [
       "<Figure size 432x288 with 1 Axes>"
      ]
     },
     "metadata": {
      "needs_background": "light"
     },
     "output_type": "display_data"
    },
    {
     "data": {
      "text/plain": [
       "<Figure size 432x288 with 0 Axes>"
      ]
     },
     "metadata": {},
     "output_type": "display_data"
    }
   ],
   "source": [
    "# fit models of increasing order\n",
    "from patsy import dmatrices\n",
    "for order in range(1, 3): # optimal_6261_order+2\n",
    "\n",
    "    genotypes_6261_permuted = genotypes_6261[indices_permuted_6261]\n",
    "    affinities_6261_permuted = affinities_6261[indices_permuted_6261]\n",
    "    print('Order: ', str(order))\n",
    "    poly_6261_current = PolynomialFeatures(order, interaction_only=True)\n",
    "    genotypes_6261_current = poly_6261_current.fit_transform(genotypes_6261_permuted)\n",
    "\n",
    "    # fit\n",
    "    reg_6261_current = sm.OLS(affinities_6261_permuted, genotypes_6261_current).fit()\n",
    "    reg_6261_coefs_current = reg_6261_current.params\n",
    "    reg_6261_CIs_current = reg_6261_current.conf_int(\n",
    "        alpha=0.05/float(len(reg_6261_coefs_current)), cols=None)\n",
    "    reg_6261_stderr = reg_6261_current.bse\n",
    "    reg_6261_pvalues = reg_6261_current.pvalues\n",
    "\n",
    "    num_sig = len(np.where(reg_6261_pvalues < 0.05 /\n",
    "                  float(len(reg_6261_coefs_current)))[0])\n",
    "    print(num_sig)\n",
    "\n",
    "    predicted_phenos_permuted_6261 = reg_6261_current.predict(genotypes_6261_current)\n",
    "    rsquared_6261_current = reg_6261_current.rsquared\n",
    "    print('Params: ', len(reg_6261_coefs_current))\n",
    "    print('Performance: ', rsquared_6261_current)\n",
    "\n",
    "    # write model to file\n",
    "    if order > 0:\n",
    "        coef_names = poly_6261_current.get_feature_names_out(\n",
    "            input_features=mutations_6261)\n",
    "        with open('./6261_'+str(order)+'order.txt', 'w') as writefile:\n",
    "            coef_writer = csv.writer(writefile, delimiter='\\t')\n",
    "            coef_writer.writerow(['Params: ', len(reg_6261_coefs_current)])\n",
    "            coef_writer.writerow(['Performance: ', rsquared_6261_current])\n",
    "            coef_writer.writerow(\n",
    "                ['Term', 'Coefficient', 'Standard Error', 'p-value', '95% CI lower', '95% CI upper'])\n",
    "            coef_writer.writerow(['Intercept', reg_6261_coefs_current[0]])\n",
    "            for i in range(1, len(reg_6261_coefs_current)):\n",
    "                coef_writer.writerow([','.join(coef_names[i].split(' ')), reg_6261_coefs_current[i], reg_6261_stderr[i],\n",
    "                                      reg_6261_pvalues[i], reg_6261_CIs_current[i][0], reg_6261_CIs_current[i][1]])\n",
    "            writefile.close()\n",
    "\n",
    "        df = pd.DataFrame({\n",
    "            \"Predicted\": predicted_phenos_permuted_6261,\n",
    "            \"Actual\": affinities_6261_permuted\n",
    "        })\n",
    "\n",
    "        y, X = dmatrices(\"Predicted ~ Actual\",\n",
    "                    data=df, return_type='dataframe')\n",
    "\n",
    "        model = sm.OLS(y, X)\n",
    "        results = model.fit()\n",
    "        print(f\"\\n\\nORDER: {order}\\n\\n\")\n",
    "        print(results.summary())\n",
    "        plot = sns.regplot(x=\"Actual\", y=\"Predicted\", data=df, line_kws={'lw': 2, 'color': 'red'})\n",
    "        plt.title(f\"CR6261 Epistasis Model Order {order}\")\n",
    "        plt.show()\n",
    "        # plt.savefig(f\"../images/cr6261_model_order{order}.png\", bbox_inches='tight')\n",
    "        plt.clf()\n"
   ]
  },
  {
   "cell_type": "markdown",
   "metadata": {},
   "source": [
    "### 9114"
   ]
  },
  {
   "cell_type": "code",
   "execution_count": 49,
   "metadata": {},
   "outputs": [
    {
     "name": "stdout",
     "output_type": "stream",
     "text": [
      "Order:  1\n",
      "17\n",
      "Params:  17\n",
      "Performance:  0.7820407464051333\n",
      "\n",
      "\n",
      "ORDER: 1\n",
      "\n",
      "\n",
      "                            OLS Regression Results                            \n",
      "==============================================================================\n",
      "Dep. Variable:              Predicted   R-squared:                       0.782\n",
      "Model:                            OLS   Adj. R-squared:                  0.782\n",
      "Method:                 Least Squares   F-statistic:                 2.573e+04\n",
      "Date:                Tue, 19 Jul 2022   Prob (F-statistic):               0.00\n",
      "Time:                        17:08:54   Log-Likelihood:                -2644.9\n",
      "No. Observations:                7173   AIC:                             5294.\n",
      "Df Residuals:                    7171   BIC:                             5308.\n",
      "Df Model:                           1                                         \n",
      "Covariance Type:            nonrobust                                         \n",
      "==============================================================================\n",
      "                 coef    std err          t      P>|t|      [0.025      0.975]\n",
      "------------------------------------------------------------------------------\n",
      "Intercept      0.4761      0.011     41.679      0.000       0.454       0.498\n",
      "Actual         0.7820      0.005    160.405      0.000       0.772       0.792\n",
      "==============================================================================\n",
      "Omnibus:                       66.478   Durbin-Watson:                   2.002\n",
      "Prob(Omnibus):                  0.000   Jarque-Bera (JB):               68.629\n",
      "Skew:                          -0.226   Prob(JB):                     1.25e-15\n",
      "Kurtosis:                       3.156   Cond. No.                         7.52\n",
      "==============================================================================\n",
      "\n",
      "Notes:\n",
      "[1] Standard Errors assume that the covariance matrix of the errors is correctly specified.\n"
     ]
    },
    {
     "data": {
      "image/png": "[encoded data removed]",
      "text/plain": [
       "<Figure size 432x288 with 1 Axes>"
      ]
     },
     "metadata": {
      "needs_background": "light"
     },
     "output_type": "display_data"
    },
    {
     "name": "stdout",
     "output_type": "stream",
     "text": [
      "Order:  2\n",
      "63\n",
      "Params:  137\n",
      "Performance:  0.9344332421017346\n",
      "\n",
      "\n",
      "ORDER: 2\n",
      "\n",
      "\n",
      "                            OLS Regression Results                            \n",
      "==============================================================================\n",
      "Dep. Variable:              Predicted   R-squared:                       0.934\n",
      "Model:                            OLS   Adj. R-squared:                  0.934\n",
      "Method:                 Least Squares   F-statistic:                 1.022e+05\n",
      "Date:                Tue, 19 Jul 2022   Prob (F-statistic):               0.00\n",
      "Time:                        17:08:55   Log-Likelihood:                 1024.8\n",
      "No. Observations:                7173   AIC:                            -2046.\n",
      "Df Residuals:                    7171   BIC:                            -2032.\n",
      "Df Model:                           1                                         \n",
      "Covariance Type:            nonrobust                                         \n",
      "==============================================================================\n",
      "                 coef    std err          t      P>|t|      [0.025      0.975]\n",
      "------------------------------------------------------------------------------\n",
      "Intercept      0.1432      0.007     20.913      0.000       0.130       0.157\n",
      "Actual         0.9344      0.003    319.685      0.000       0.929       0.940\n",
      "==============================================================================\n",
      "Omnibus:                       12.801   Durbin-Watson:                   2.028\n",
      "Prob(Omnibus):                  0.002   Jarque-Bera (JB):               12.799\n",
      "Skew:                           0.102   Prob(JB):                      0.00166\n",
      "Kurtosis:                       3.032   Cond. No.                         7.52\n",
      "==============================================================================\n",
      "\n",
      "Notes:\n",
      "[1] Standard Errors assume that the covariance matrix of the errors is correctly specified.\n"
     ]
    },
    {
     "data": {
      "image/png": "[encoded data removed]",
      "text/plain": [
       "<Figure size 432x288 with 1 Axes>"
      ]
     },
     "metadata": {
      "needs_background": "light"
     },
     "output_type": "display_data"
    },
    {
     "data": {
      "text/plain": [
       "<Figure size 432x288 with 0 Axes>"
      ]
     },
     "metadata": {},
     "output_type": "display_data"
    }
   ],
   "source": [
    "# fit models of increasing order\n",
    "for order in range(1, 3):  # optimal_9114_order+2\n",
    "\n",
    "    genotypes_9114_permuted = genotypes_9114[indices_permuted_9114]\n",
    "    affinities_9114_permuted = affinities_9114[indices_permuted_9114]\n",
    "    print('Order: ', str(order))\n",
    "    poly_9114_current = PolynomialFeatures(order, interaction_only=True)\n",
    "    genotypes_9114_current = poly_9114_current.fit_transform(genotypes_9114_permuted)\n",
    "\n",
    "    # fit\n",
    "    reg_9114_current = sm.OLS(affinities_9114_permuted, genotypes_9114_current).fit()\n",
    "    reg_9114_coefs_current = reg_9114_current.params\n",
    "    reg_9114_CIs_current = reg_9114_current.conf_int(\n",
    "        alpha=0.05/float(len(reg_9114_coefs_current)), cols=None)\n",
    "    reg_9114_stderr = reg_9114_current.bse\n",
    "    reg_9114_pvalues = reg_9114_current.pvalues\n",
    "\n",
    "    num_sig = len(np.where(reg_9114_pvalues < 0.05 /\n",
    "                  float(len(reg_9114_coefs_current)))[0])\n",
    "    print(num_sig)\n",
    "\n",
    "    predicted_phenos_permuted_9114 = reg_9114_current.predict(genotypes_9114_current)\n",
    "    rsquared_9114_current = reg_9114_current.rsquared\n",
    "    print('Params: ', len(reg_9114_coefs_current))\n",
    "    print('Performance: ', rsquared_9114_current)\n",
    "\n",
    "    # write model to file\n",
    "    if order > 0:\n",
    "        coef_names = poly_9114_current.get_feature_names_out(\n",
    "            input_features=mutations_9114)\n",
    "        with open('./9114_'+str(order)+'order.txt', 'w') as writefile:\n",
    "            coef_writer = csv.writer(writefile, delimiter='\\t')\n",
    "            coef_writer.writerow(['Params: ', len(reg_9114_coefs_current)])\n",
    "            coef_writer.writerow(['Performance: ', rsquared_9114_current])\n",
    "            coef_writer.writerow(\n",
    "                ['Term', 'Coefficient', 'Standard Error', 'p-value', '95% CI lower', '95% CI upper'])\n",
    "            coef_writer.writerow(['Intercept', reg_9114_coefs_current[0]])\n",
    "            for i in range(1, len(reg_9114_coefs_current)):\n",
    "                coef_writer.writerow([','.join(coef_names[i].split(' ')), reg_9114_coefs_current[i], reg_9114_stderr[i],\n",
    "                                      reg_9114_pvalues[i], reg_9114_CIs_current[i][0], reg_9114_CIs_current[i][1]])\n",
    "            writefile.close()\n",
    "\n",
    "        df = pd.DataFrame({\n",
    "            \"Predicted\": predicted_phenos_permuted_9114,\n",
    "            \"Actual\": affinities_9114_permuted\n",
    "        })\n",
    "\n",
    "        y, X = dmatrices(\"Predicted ~ Actual\",\n",
    "                    data=df, return_type='dataframe')\n",
    "\n",
    "        model = sm.OLS(y, X)\n",
    "        results = model.fit()\n",
    "        print(f\"\\n\\nORDER: {order}\\n\\n\")\n",
    "        print(results.summary())\n",
    "        plot = sns.regplot(x=\"Actual\", y=\"Predicted\", data=df, line_kws={'lw': 2, 'color': 'red'})\n",
    "        plt.title(f\"CR9114 Epistasis Model Order {order}\")\n",
    "        plt.show()\n",
    "        # plt.savefig(f\"../images/cr6261_model_order{order}.png\", bbox_inches='tight')\n",
    "        plt.clf()\n"
   ]
  }
 ],
 "metadata": {
  "kernelspec": {
   "display_name": "Python 3.9.12 ('ab_proj')",
   "language": "python",
   "name": "python3"
  },
  "language_info": {
   "codemirror_mode": {
    "name": "ipython",
    "version": 3
   },
   "file_extension": ".py",
   "mimetype": "text/x-python",
   "name": "python",
   "nbconvert_exporter": "python",
   "pygments_lexer": "ipython3",
   "version": "3.9.12"
  },
  "vscode": {
   "interpreter": {
    "hash": "b4b35435ca9d895c79aa628b4c268efc9ba3f268a4bc4f2bbbb6ba2da20883a0"
   }
  }
 },
 "nbformat": 4,
 "nbformat_minor": 4
}
